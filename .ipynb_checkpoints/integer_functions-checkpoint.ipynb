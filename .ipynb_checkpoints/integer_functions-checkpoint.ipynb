{
 "cells": [
  {
   "cell_type": "markdown",
   "metadata": {},
   "source": [
    "# Integer Functions"
   ]
  },
  {
   "cell_type": "code",
   "execution_count": 2,
   "metadata": {},
   "outputs": [],
   "source": [
    "number = 20  # Declaring a number."
   ]
  },
  {
   "cell_type": "markdown",
   "metadata": {},
   "source": [
    "## Implementation of function as_integer_ratio():"
   ]
  },
  {
   "cell_type": "markdown",
   "metadata": {},
   "source": [
    "\n",
    "### Returns a pair of integer values whose ratio is equal to the corresponding integer or float value with positive denominator.\n"
   ]
  },
  {
   "cell_type": "code",
   "execution_count": 3,
   "metadata": {},
   "outputs": [
    {
     "name": "stdout",
     "output_type": "stream",
     "text": [
      "(20, 1)\n"
     ]
    }
   ],
   "source": [
    "print(number.as_integer_ratio())"
   ]
  },
  {
   "cell_type": "markdown",
   "metadata": {},
   "source": [
    "## Implementation of function bit_length():"
   ]
  },
  {
   "cell_type": "markdown",
   "metadata": {},
   "source": [
    "\n",
    "### Returns a integer value which represents the number of bits needed to represent the decimal number in binary form.\n"
   ]
  },
  {
   "cell_type": "code",
   "execution_count": 4,
   "metadata": {},
   "outputs": [
    {
     "name": "stdout",
     "output_type": "stream",
     "text": [
      "5\n"
     ]
    }
   ],
   "source": [
    "print(number.bit_length())"
   ]
  },
  {
   "cell_type": "markdown",
   "metadata": {},
   "source": [
    "## Implementation of function to_bytes():"
   ]
  },
  {
   "cell_type": "markdown",
   "metadata": {},
   "source": [
    "\n",
    "## Returns an array of bytes representing an integer.\n",
    "\n",
    "## Syntax: variable.to_bytes(length, byteorder='big' or 'little', signed=True or False)\n"
   ]
  },
  {
   "cell_type": "markdown",
   "metadata": {},
   "source": [
    "'big' = Most significant byte is at the start of the byte array.<br>\n",
    "'little' = Most significant byte is at the end of the byte array.<br>\n"
   ]
  },
  {
   "cell_type": "code",
   "execution_count": 5,
   "metadata": {},
   "outputs": [
    {
     "name": "stdout",
     "output_type": "stream",
     "text": [
      "b'\\x00\\x14'\n",
      "b'\\x14\\x00'\n"
     ]
    }
   ],
   "source": [
    "print(number.to_bytes(2, byteorder='big', signed=False))\n",
    "print(number.to_bytes(2, byteorder='little', signed=False))"
   ]
  },
  {
   "cell_type": "markdown",
   "metadata": {},
   "source": [
    "\n",
    "For negative number only the signed attribute can be set to True.\n",
    "<br>\n",
    "\n",
    "\n"
   ]
  },
  {
   "cell_type": "code",
   "execution_count": 9,
   "metadata": {},
   "outputs": [
    {
     "name": "stdout",
     "output_type": "stream",
     "text": [
      "b'\\xff\\xec'\n",
      "b'\\xec\\xff'\n"
     ]
    }
   ],
   "source": [
    "negative_number = -20  # Declaring a negative number.\n",
    "print(negative_number.to_bytes(2, byteorder='big', signed=True))\n",
    "print(negative_number.to_bytes(2, byteorder='little', signed=True))"
   ]
  },
  {
   "cell_type": "markdown",
   "metadata": {},
   "source": [
    "## Implementation of function from_bytes():\n",
    "\n",
    "### Returns an integer number from the given array of bytes."
   ]
  },
  {
   "cell_type": "markdown",
   "metadata": {},
   "source": [
    "\n",
    "### Syntax: variable.from_bytes(bytes, byteorder='big' or 'little', signed=True or False)\n",
    "\n",
    "### 'big' = Most significant byte is at the start of the byte array."
   ]
  },
  {
   "cell_type": "markdown",
   "metadata": {},
   "source": [
    "'big' = Most significant byte is at the start of the byte array. <br>\n",
    "'little' = Most significant byte is at the end of the byte array."
   ]
  },
  {
   "cell_type": "code",
   "execution_count": 7,
   "metadata": {},
   "outputs": [
    {
     "name": "stdout",
     "output_type": "stream",
     "text": [
      "20\n",
      "20\n"
     ]
    }
   ],
   "source": [
    "print(int.from_bytes(b'\\x00\\x14', byteorder='big', signed=False))\n",
    "print(int.from_bytes(b'\\x14\\x00', byteorder='little', signed=False))"
   ]
  },
  {
   "cell_type": "markdown",
   "metadata": {},
   "source": [
    "\n",
    " For negative number only the signed attribute can be set to True.\n"
   ]
  },
  {
   "cell_type": "code",
   "execution_count": 10,
   "metadata": {},
   "outputs": [
    {
     "name": "stdout",
     "output_type": "stream",
     "text": [
      "-20\n",
      "-20\n"
     ]
    }
   ],
   "source": [
    "print(int.from_bytes(b'\\xff\\xec', byteorder='big', signed=True))\n",
    "print(int.from_bytes(b'\\xec\\xff', byteorder='little', signed=True))"
   ]
  },
  {
   "cell_type": "code",
   "execution_count": null,
   "metadata": {},
   "outputs": [],
   "source": []
  }
 ],
 "metadata": {
  "kernelspec": {
   "display_name": "Python 3",
   "language": "python",
   "name": "python3"
  },
  "language_info": {
   "codemirror_mode": {
    "name": "ipython",
    "version": 3
   },
   "file_extension": ".py",
   "mimetype": "text/x-python",
   "name": "python",
   "nbconvert_exporter": "python",
   "pygments_lexer": "ipython3",
   "version": "3.8.1"
  }
 },
 "nbformat": 4,
 "nbformat_minor": 2
}
