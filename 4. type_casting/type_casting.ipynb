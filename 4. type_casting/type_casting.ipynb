{
 "cells": [
  {
   "cell_type": "markdown",
   "metadata": {},
   "source": [
    "## Type conversion, also known as type casting, refers to the process of converting an expression from one data type to another."
   ]
  },
  {
   "cell_type": "code",
   "execution_count": 13,
   "metadata": {},
   "outputs": [],
   "source": [
    "number = 20  # Declaring a integer value.\n",
    "floating_value = 10.5  # Declaring a float value.\n",
    "string = \"Apple\"  # Declaring a string value."
   ]
  },
  {
   "cell_type": "markdown",
   "metadata": {},
   "source": [
    "#### In Python, explicit type conversion can be performed using various built-in functions such as int(), float(), str(), etc. These functions allow for the conversion of values between different data types, providing greater flexibility in handling and processing data."
   ]
  },
  {
   "cell_type": "code",
   "execution_count": 14,
   "metadata": {},
   "outputs": [
    {
     "name": "stdout",
     "output_type": "stream",
     "text": [
      "<class 'int'> 20\n",
      "<class 'float'> 20.0\n"
     ]
    }
   ],
   "source": [
    "# Type casting integer to float:\n",
    "print(type(number), number)\n",
    "float_number = float(number)\n",
    "print(type(float_number), float_number)"
   ]
  },
  {
   "cell_type": "code",
   "execution_count": 15,
   "metadata": {},
   "outputs": [
    {
     "name": "stdout",
     "output_type": "stream",
     "text": [
      "<class 'int'> 20\n",
      "<class 'str'> 20\n"
     ]
    }
   ],
   "source": [
    "# Type casting integer to string:\n",
    "print(type(number), number)\n",
    "string_number = str(number)\n",
    "print(type(string_number), string_number)"
   ]
  },
  {
   "cell_type": "code",
   "execution_count": 16,
   "metadata": {},
   "outputs": [
    {
     "name": "stdout",
     "output_type": "stream",
     "text": [
      "<class 'int'> 20\n",
      "<class 'complex'> (20+0j)\n"
     ]
    }
   ],
   "source": [
    "# Type casting integer to complex:\n",
    "print(type(number), number)\n",
    "complex_number = complex(number)\n",
    "print(type(complex_number), complex_number)"
   ]
  },
  {
   "cell_type": "code",
   "execution_count": 17,
   "metadata": {},
   "outputs": [
    {
     "name": "stdout",
     "output_type": "stream",
     "text": [
      "<class 'float'> 10.5\n",
      "<class 'int'> 10\n"
     ]
    }
   ],
   "source": [
    "# Type casting float to integer:\n",
    "print(type(floating_value), floating_value)\n",
    "number_float = int(floating_value)\n",
    "print(type(number_float), number_float)"
   ]
  },
  {
   "cell_type": "code",
   "execution_count": 18,
   "metadata": {},
   "outputs": [
    {
     "name": "stdout",
     "output_type": "stream",
     "text": [
      "<class 'float'> 10.5\n",
      "<class 'str'> 10.5\n"
     ]
    }
   ],
   "source": [
    "# Type casting float to string:\n",
    "print(type(floating_value), floating_value)\n",
    "string_float = str(floating_value)\n",
    "print(type(string_float), string_float)"
   ]
  },
  {
   "cell_type": "code",
   "execution_count": 19,
   "metadata": {},
   "outputs": [
    {
     "name": "stdout",
     "output_type": "stream",
     "text": [
      "<class 'float'> 10.5\n",
      "<class 'complex'> (10.5+0j)\n"
     ]
    }
   ],
   "source": [
    "# Type casting float to complex:\n",
    "print(type(floating_value), floating_value)\n",
    "complex_float = complex(floating_value)\n",
    "print(type(complex_float), complex_float)"
   ]
  },
  {
   "cell_type": "markdown",
   "metadata": {},
   "source": [
    "\n",
    "### \"NOTE: Only the numbers that are stored in string formats can be converted to integer, float or complex.\""
   ]
  },
  {
   "cell_type": "code",
   "execution_count": 20,
   "metadata": {},
   "outputs": [],
   "source": [
    "string_integer = \"100\""
   ]
  },
  {
   "cell_type": "markdown",
   "metadata": {},
   "source": [
    "# Type casting string to integer:"
   ]
  },
  {
   "cell_type": "code",
   "execution_count": 21,
   "metadata": {},
   "outputs": [
    {
     "name": "stdout",
     "output_type": "stream",
     "text": [
      "<class 'str'> 100\n",
      "<class 'int'> 100\n"
     ]
    }
   ],
   "source": [
    "print(type(string_integer), string_integer)\n",
    "number_string = int(string_integer)\n",
    "print(type(number_string), number_string)"
   ]
  },
  {
   "cell_type": "markdown",
   "metadata": {},
   "source": [
    "# Type casting string to float:"
   ]
  },
  {
   "cell_type": "code",
   "execution_count": 22,
   "metadata": {},
   "outputs": [
    {
     "name": "stdout",
     "output_type": "stream",
     "text": [
      "<class 'str'> 100\n",
      "<class 'float'> 100.0\n"
     ]
    }
   ],
   "source": [
    "print(type(string_integer), string_integer)\n",
    "float_string = float(string_integer)\n",
    "print(type(float_string), float_string)"
   ]
  },
  {
   "cell_type": "markdown",
   "metadata": {},
   "source": [
    "# Type casting string to complex:"
   ]
  },
  {
   "cell_type": "code",
   "execution_count": 23,
   "metadata": {},
   "outputs": [
    {
     "name": "stdout",
     "output_type": "stream",
     "text": [
      "<class 'str'> 100\n",
      "<class 'complex'> (100+0j)\n"
     ]
    }
   ],
   "source": [
    "print(type(string_integer), string_integer)\n",
    "complex_string = complex(string_integer)\n",
    "print(type(complex_string), complex_string)"
   ]
  },
  {
   "cell_type": "markdown",
   "metadata": {},
   "source": [
    "# Type casting complex to string:"
   ]
  },
  {
   "cell_type": "code",
   "execution_count": 24,
   "metadata": {},
   "outputs": [
    {
     "name": "stdout",
     "output_type": "stream",
     "text": [
      "<class 'str'> (100+0j)\n",
      "<class 'complex'> (100+0j)\n"
     ]
    }
   ],
   "source": [
    "print(type(string_integer), complex_string)\n",
    "string_complex = complex(string_integer)\n",
    "print(type(string_complex), string_complex)"
   ]
  },
  {
   "cell_type": "markdown",
   "metadata": {},
   "source": [
    "### \"Note: Complex values can not be converted to integer or float.\"\n"
   ]
  }
 ],
 "metadata": {
  "kernelspec": {
   "display_name": "Python 3",
   "language": "python",
   "name": "python3"
  },
  "language_info": {
   "codemirror_mode": {
    "name": "ipython",
    "version": 3
   },
   "file_extension": ".py",
   "mimetype": "text/x-python",
   "name": "python",
   "nbconvert_exporter": "python",
   "pygments_lexer": "ipython3",
   "version": "3.8.1"
  }
 },
 "nbformat": 4,
 "nbformat_minor": 2
}
