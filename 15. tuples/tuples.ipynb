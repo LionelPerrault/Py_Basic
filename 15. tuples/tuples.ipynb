{
 "cells": [
  {
   "cell_type": "markdown",
   "source": [
    "# Tuples\n",
    "\n",
    "## Tuples are immutable ordered collections of elements that can be of different data types.\n"
   ],
   "metadata": {
    "collapsed": false
   }
  },
  {
   "cell_type": "code",
   "execution_count": 2,
   "outputs": [
    {
     "name": "stdout",
     "output_type": "stream",
     "text": [
      "The type of the tuple is: <class 'tuple'>\n"
     ]
    }
   ],
   "source": [
    "## A tuple can be indexed, sliced and iterated over.\n",
    "\n",
    "# Declaring an empty tuple\n",
    "empty_tuple = ()\n",
    "\n",
    "# Declaring a tuple using the built-in `tuple()` function\n",
    "empty_tuple_ = tuple()\n",
    "\n",
    "# Declaring a tuple with elements of different data types\n",
    "mixed_data_types_tuple = (1, 2, 3.5, \"wow\")\n",
    "\n",
    "# A tuple can be declared very simply without brackets\n",
    "tuple_ = 1, 2, 3\n",
    "\n",
    "print(\"The type of the tuple is:\", type(tuple_))\n"
   ],
   "metadata": {
    "collapsed": false
   }
  }
 ],
 "metadata": {
  "kernelspec": {
   "display_name": "Python 3",
   "language": "python",
   "name": "python3"
  },
  "language_info": {
   "codemirror_mode": {
    "name": "ipython",
    "version": 3
   },
   "file_extension": ".py",
   "mimetype": "text/x-python",
   "name": "python",
   "nbconvert_exporter": "python",
   "pygments_lexer": "ipython3",
   "version": "3.8.1-final"
  }
 },
 "nbformat": 4,
 "nbformat_minor": 2
}
