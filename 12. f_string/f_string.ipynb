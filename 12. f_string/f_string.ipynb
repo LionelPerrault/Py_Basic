{
 "cells": [
  {
   "cell_type": "markdown",
   "source": [],
   "metadata": {
    "collapsed": false
   }
  },
  {
   "cell_type": "markdown",
   "source": [
    "# f-string"
   ],
   "metadata": {
    "collapsed": false
   }
  },
  {
   "cell_type": "code",
   "execution_count": null,
   "outputs": [],
   "source": [
    "\n",
    "\"\"\" f-string is a formatting method introduced in python 3.6.\"\"\"\n",
    "\"\"\"\n",
    "f-strings are a way of formatting strings in Python, introduced in version 3.6.\n",
    "They are considered to be more efficient than the traditional .format() method and format specifiers.\n",
    "The syntax for f-strings is f\"Hello {placeholder}\", where values are placed within curly braces {} as placeholders.\n",
    "\"\"\"\n",
    "\n",
    "age = 20  # Declaring a integer value.\n",
    "\n",
    "f_string = f\"Hello I am {age} old\"  # Declaring a formatted string with the help of f-string.\n",
    "\n",
    "print(f_string)\n",
    "\n",
    "\"\"\"\n",
    "This code declares an integer variable age with the value 20, and then creates an f-string by using the f string syntax\n",
    " and placing the age variable inside curly braces {} as a placeholder. Finally, the f-string is printed to the console.\n",
    "\"\"\"\n"
   ],
   "metadata": {
    "collapsed": false
   }
  }
 ],
 "metadata": {
  "kernelspec": {
   "display_name": "Python 3",
   "language": "python",
   "name": "python3"
  },
  "language_info": {
   "codemirror_mode": {
    "name": "ipython",
    "version": 3
   },
   "file_extension": ".py",
   "mimetype": "text/x-python",
   "name": "python",
   "nbconvert_exporter": "python",
   "pygments_lexer": "ipython3",
   "version": "3.6.8-final"
  }
 },
 "nbformat": 4,
 "nbformat_minor": 2
}
