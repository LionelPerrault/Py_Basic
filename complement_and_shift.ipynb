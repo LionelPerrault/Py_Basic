{
 "cells": [
  {
   "cell_type": "markdown",
   "metadata": {},
   "source": [
    "# Complement and Shift"
   ]
  },
  {
   "cell_type": "markdown",
   "metadata": {},
   "source": [
    "## Complement operator (~):"
   ]
  },
  {
   "cell_type": "markdown",
   "metadata": {},
   "source": [
    "\n",
    "## The complement operator flips the bits from 0 => 1 or 1 => 0."
   ]
  },
  {
   "cell_type": "code",
   "execution_count": 4,
   "metadata": {},
   "outputs": [
    {
     "name": "stdout",
     "output_type": "stream",
     "text": [
      "-13\n"
     ]
    }
   ],
   "source": [
    "print(~12)  # Printing the complement of 12\n",
    "\n",
    "# ~12 = -13"
   ]
  },
  {
   "cell_type": "markdown",
   "metadata": {},
   "source": [
    "### Internal working of the complement operator\n",
    "### Manual calculation\n",
    "### 2's Complement is the method used to convert negative numbers to positive numbers and store them in the computer. "
   ]
  },
  {
   "cell_type": "raw",
   "metadata": {},
   "source": [
    "Binary of 12           = 00001100\n",
    "Complement of 00001100 = 11110011\n",
    "\n",
    "Binary of 13                = 00001101\n",
    "Complement of 00001101      = 11110010\n",
    "2's Complement of 11110010  = 11110011  \n",
    "2's complement = 1's complement + 1"
   ]
  },
  {
   "cell_type": "markdown",
   "metadata": {},
   "source": [
    "# Left shift operator:\n",
    "## Shifts the zeroes to the left hand side of the binary value i.e shifts the values before the dot."
   ]
  },
  {
   "cell_type": "markdown",
   "metadata": {},
   "source": [
    "### Internal working of the left shift operator."
   ]
  },
  {
   "cell_type": "raw",
   "metadata": {},
   "source": [
    " Binary of 12                          = 1100.0000\n",
    " Applying left shift of 2 to 1100.0000 = 1100000.00\n",
    " \n",
    " print(int(0b110000)) => 48"
   ]
  },
  {
   "cell_type": "code",
   "execution_count": 8,
   "metadata": {},
   "outputs": [
    {
     "name": "stdout",
     "output_type": "stream",
     "text": [
      "48\n"
     ]
    }
   ],
   "source": [
    "print(12 << 2)"
   ]
  },
  {
   "cell_type": "markdown",
   "metadata": {},
   "source": [
    "# Right shift operator:"
   ]
  },
  {
   "cell_type": "markdown",
   "metadata": {},
   "source": [
    "\n",
    "## Shifts the zeroes to the right hand side of the binary values i.e  shift the values after the dot.\n"
   ]
  },
  {
   "cell_type": "markdown",
   "metadata": {},
   "source": [
    "### Internal working of the left right operator."
   ]
  },
  {
   "cell_type": "code",
   "execution_count": 10,
   "metadata": {},
   "outputs": [],
   "source": [
    "#  Binary of 12                           = 1100.0000\n",
    "#  Applying right shift of 2 to 1100.0000 = 11.0000000\n",
    "\n",
    "#  print(int(0b11)) => 3\n"
   ]
  },
  {
   "cell_type": "code",
   "execution_count": 1,
   "metadata": {},
   "outputs": [
    {
     "name": "stdout",
     "output_type": "stream",
     "text": [
      "3\n"
     ]
    }
   ],
   "source": [
    "print(12 >> 2)"
   ]
  },
  {
   "cell_type": "code",
   "execution_count": null,
   "metadata": {},
   "outputs": [],
   "source": []
  }
 ],
 "metadata": {
  "kernelspec": {
   "display_name": "Python 3",
   "language": "python",
   "name": "python3"
  },
  "language_info": {
   "codemirror_mode": {
    "name": "ipython",
    "version": 3
   },
   "file_extension": ".py",
   "mimetype": "text/x-python",
   "name": "python",
   "nbconvert_exporter": "python",
   "pygments_lexer": "ipython3",
   "version": "3.8.1"
  }
 },
 "nbformat": 4,
 "nbformat_minor": 2
}
