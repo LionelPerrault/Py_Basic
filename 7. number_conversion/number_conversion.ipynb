{
 "cells": [
  {
   "cell_type": "markdown",
   "source": [
    "# Number Conversion\n"
   ],
   "metadata": {
    "collapsed": false
   }
  },
  {
   "cell_type": "code",
   "execution_count": 2,
   "outputs": [
    {
     "data": {
      "text/plain": "\" Binary      = Begins with '0b'\\n    Octal       = Begins with '0o'\\n    Hexadecimal = Begins with '0x'\\n\""
     },
     "execution_count": 2,
     "metadata": {},
     "output_type": "execute_result"
    }
   ],
   "source": [
    "\"\"\"Conversion of decimal values to binary, octal, hexadecimal and vice versa.\"\"\"\n",
    "\n",
    "\"\"\" Representation of binary, octal, hexadecimal values in python\"\"\"\n",
    "\n",
    "\"\"\" Binary      = Begins with '0b'\n",
    "    Octal       = Begins with '0o'\n",
    "    Hexadecimal = Begins with '0x'\n",
    "\"\"\""
   ],
   "metadata": {
    "collapsed": false
   }
  },
  {
   "cell_type": "code",
   "execution_count": 3,
   "outputs": [
    {
     "name": "stdout",
     "output_type": "stream",
     "text": [
      "Decimal: 20\n",
      "Binary: 0b10100\n",
      "Octal: 0o24\n",
      "Hexadecimal: 0x14\n"
     ]
    }
   ],
   "source": [
    "decimal = 20\n",
    "\n",
    "# Conversion of decimal to binary, octal, and hexadecimal\n",
    "print(\"Decimal:\", decimal)\n",
    "print(\"Binary:\", bin(decimal))\n",
    "print(\"Octal:\", oct(decimal))\n",
    "print(\"Hexadecimal:\", hex(decimal))"
   ],
   "metadata": {
    "collapsed": false
   }
  },
  {
   "cell_type": "code",
   "execution_count": 4,
   "outputs": [
    {
     "name": "stdout",
     "output_type": "stream",
     "text": [
      "\n",
      "Binary: 15\n",
      "Decimal: 15\n",
      "Octal: 0o17\n",
      "Hexadecimal: 0xf\n"
     ]
    }
   ],
   "source": [
    "binary = 0b1111\n",
    "\n",
    "# Conversion of binary to decimal, octal, and hexadecimal\n",
    "print(\"\\nBinary:\", binary)\n",
    "print(\"Decimal:\", int(binary))\n",
    "print(\"Octal:\", oct(binary))\n",
    "print(\"Hexadecimal:\", hex(binary))"
   ],
   "metadata": {
    "collapsed": false
   }
  },
  {
   "cell_type": "code",
   "execution_count": 5,
   "outputs": [
    {
     "name": "stdout",
     "output_type": "stream",
     "text": [
      "\n",
      "Hexadecimal: 65536\n",
      "Decimal: 65536\n",
      "Binary: 0b10000000000000000\n",
      "Octal: 0o200000\n"
     ]
    }
   ],
   "source": [
    "hexadecimal = 0x10000\n",
    "\n",
    "# Conversion of hexadecimal to decimal, binary, and octal\n",
    "print(\"\\nHexadecimal:\", hexadecimal)\n",
    "print(\"Decimal:\", int(hexadecimal))\n",
    "print(\"Binary:\", bin(hexadecimal))\n",
    "print(\"Octal:\", oct(hexadecimal))"
   ],
   "metadata": {
    "collapsed": false
   }
  },
  {
   "cell_type": "code",
   "execution_count": 6,
   "outputs": [
    {
     "name": "stdout",
     "output_type": "stream",
     "text": [
      "\n",
      "Octal: 4096\n",
      "Decimal: 4096\n",
      "Binary: 0b1000000000000\n",
      "Hexadecimal: 0x1000\n"
     ]
    }
   ],
   "source": [
    "octal = 0o10000\n",
    "\n",
    "# Conversion of octal to decimal, binary, and hexadecimal\n",
    "print(\"\\nOctal:\", octal)\n",
    "print(\"Decimal:\", int(octal))\n",
    "print(\"Binary:\", bin(octal))\n",
    "print(\"Hexadecimal:\", hex(octal))"
   ],
   "metadata": {
    "collapsed": false
   }
  }
 ],
 "metadata": {
  "kernelspec": {
   "display_name": "Python 3",
   "language": "python",
   "name": "python3"
  },
  "language_info": {
   "codemirror_mode": {
    "name": "ipython",
    "version": 3
   },
   "file_extension": ".py",
   "mimetype": "text/x-python",
   "name": "python",
   "nbconvert_exporter": "python",
   "pygments_lexer": "ipython3",
   "version": "3.8.1"
  }
 },
 "nbformat": 4,
 "nbformat_minor": 2
}
