{
 "cells": [
  {
   "cell_type": "markdown",
   "source": [],
   "metadata": {
    "collapsed": false
   }
  },
  {
   "cell_type": "markdown",
   "source": [
    "# String Functions\n",
    "\n",
    "## There are various built-in methods that can be implemented on strings.\n"
   ],
   "metadata": {
    "collapsed": false
   }
  },
  {
   "cell_type": "code",
   "execution_count": null,
   "outputs": [],
   "source": [
    "# capitalize():\n",
    "\"\"\" capitalize() changes the first letter of the string into capital letter.\"\"\"\n",
    "string_ = \"small-letter\"  # Declaring a variable with string value.\n",
    "print(\"Capitalized string:\", string_.capitalize())"
   ],
   "metadata": {
    "collapsed": false
   }
  },
  {
   "cell_type": "code",
   "execution_count": null,
   "outputs": [],
   "source": [
    "# casefold():\n",
    "\"\"\" casefold() is an aggressive lower() method which converts string to case-folded string.\"\"\"\n",
    "caps_string = \"APPLE\"\n",
    "print(\"Casefolded string:\", caps_string.casefold())"
   ],
   "metadata": {
    "collapsed": false
   }
  },
  {
   "cell_type": "code",
   "execution_count": null,
   "outputs": [],
   "source": [
    "# center():\n",
    "\"\"\" center() is used to center a string at the center of certain character that are repeating on left and right.\"\"\"\n",
    "\"\"\" Syntax: variable_name.center(width, fillchar) \"\"\"\n",
    "\"\"\"\n",
    "Takes two arguments:\n",
    "\n",
    "1. width    => It is the complete length of the string that the resulting string must have.\n",
    "2. fillchar => Which character should be repeated on the left and right.\n",
    "\n",
    "NOTE : If fillchar is not specified then the default character is space.\n",
    "\"\"\"\n",
    "print(\"Centered string:\", caps_string.center(24, \"g\"))"
   ],
   "metadata": {
    "collapsed": false
   }
  },
  {
   "cell_type": "code",
   "execution_count": null,
   "outputs": [],
   "source": [
    "# count()\n",
    "\"\"\" count() is used to count the occurrence of a character or a substring in the original string.\"\"\"\n",
    "print(\"Number of occurrences of 'l' in the string:\", string_.count(\"l\"))"
   ],
   "metadata": {
    "collapsed": false
   }
  },
  {
   "cell_type": "code",
   "execution_count": null,
   "outputs": [],
   "source": [
    "# encode()\n",
    "\"\"\" encode() returns an encoded version of the string.\"\"\"\n",
    "\"\"\" Syntax: variable_name.encode(encoding, errors) \"\"\"\n",
    "\"\"\"\n",
    "Takes two arguments:\n",
    "\n",
    "1. encoding => Any supported encoding format in python.\n",
    "2. errors   => Response when encoding fails.\n",
    "\n",
    "\"\"\"\n",
    "\n",
    "encode_string = \"string to be encoded\"\n",
    "\n",
    "print(encode_string.encode(\"utf-8\"))"
   ],
   "metadata": {
    "collapsed": false
   }
  },
  {
   "cell_type": "code",
   "execution_count": null,
   "outputs": [],
   "source": [
    "string_ = \"letter\"\n",
    "\n",
    "# endswith():\n",
    "\n",
    "\"\"\" Returns True if a string ends with specified suffix.\"\"\"\n",
    "\n",
    "print(string_.endswith(\"letter\"))  # Returns True\n",
    "print(string_.endswith(\"e\"))  # Returns False"
   ],
   "metadata": {
    "collapsed": false
   }
  },
  {
   "cell_type": "code",
   "execution_count": null,
   "outputs": [],
   "source": [
    "# expandstab():\n",
    "\n",
    "\"\"\" Syntax: variable_name.expandtabs(tabsize=8)\n",
    "\"\"\"\n",
    "\n",
    "\"\"\"\n",
    "* Expands a tab space into white spaces passed as argument.\n",
    "* Default tabsize is 8.\n",
    "\"\"\"\n",
    "\n",
    "print(\"    Hello\".expandtabs(20))"
   ],
   "metadata": {
    "collapsed": false
   }
  },
  {
   "cell_type": "code",
   "execution_count": null,
   "outputs": [],
   "source": [
    "# find():\n",
    "\n",
    "\"\"\" Used to find a substring or a character in a string.\"\"\"\n",
    "\n",
    "\"\"\" It returns the starting index of the substring or return -1 if the substring is not found.\"\"\"\n",
    "\n",
    "print(string_.find(\"let\"))"
   ],
   "metadata": {
    "collapsed": false
   }
  },
  {
   "cell_type": "code",
   "execution_count": null,
   "outputs": [],
   "source": [
    "# format_map():\n",
    "\n",
    "\"\"\" It is similar to format function but takes a single dictionary as input.\"\"\"\n",
    "\n",
    "# Declaring a dictionary with two key value pair.\n",
    "dictionary_ = {\"x\": 4, \"y\": 5}\n",
    "print(\"{x}-{y}\".format_map(dictionary_))"
   ],
   "metadata": {
    "collapsed": false
   }
  },
  {
   "cell_type": "code",
   "execution_count": null,
   "outputs": [],
   "source": [
    "# index():\n",
    "\n",
    "\"\"\" Returns the initial or start index of a substring inside the string.\"\"\"\n",
    "\"\"\" Returns value error if substring or character is not found.\"\"\"\n",
    "\n",
    "print(string_.index(\"l\"))\n",
    "# print(string_.index('z'))  # Will give value error."
   ],
   "metadata": {
    "collapsed": false
   }
  },
  {
   "cell_type": "code",
   "execution_count": null,
   "outputs": [],
   "source": [
    "# join():\n",
    "\n",
    "\"\"\" Used to concatenate any iterable into a single string value.\n",
    "Only string can be passed in as argument or a list, tuple containing only strings.\"\"\"\n",
    "\n",
    "string_list = [\"h\", \"e\", \"l\", \"l\", \"o\"]  # Declaring a list of characters.\n",
    "print(\"\".join(string_list))"
   ],
   "metadata": {
    "collapsed": false
   }
  },
  {
   "cell_type": "code",
   "execution_count": null,
   "outputs": [],
   "source": [
    "# ljust() and rjust():\n",
    "\n",
    "\"\"\" This methods will return a left-justified or right-justified string based on the given width.\"\"\"\n",
    "\n",
    "\"\"\" Syntax: variable_name.ljust(width, fillchar)\"\"\"\n",
    "\n",
    "\"\"\"\n",
    "width => It is the complete length of the string that the resulting string must have.\n",
    "fillchar => Minimum width of the string.\n",
    "NOTE : If fillchar is not specified then the default character is space. \"\"\"\n",
    "\n",
    "print(string_.ljust(10, \".\"))\n",
    "print(string_.rjust(10, \".\"))\n",
    "\n",
    "animal = \"cat\"\n",
    "\n",
    "# Left justify\n",
    "print(animal.ljust(10, \"*\"))\n",
    "\n",
    "# Right justify\n",
    "print(animal.rjust(10, \"*\"))"
   ],
   "metadata": {
    "collapsed": false
   }
  },
  {
   "cell_type": "code",
   "execution_count": null,
   "outputs": [],
   "source": [
    "# lower() and upper():\n",
    "\n",
    "# Declaring a lower-case string\n",
    "lower_case = \"abcd\"\n",
    "\n",
    "# Declaring an upper-case string\n",
    "upper_case = \"ABCD\"\n",
    "\n",
    "# Converting lower-case to upper-case\n",
    "print(lower_case.upper())\n",
    "\n",
    "# Converting upper-case to lower-case\n",
    "print(upper_case.lower())"
   ],
   "metadata": {
    "collapsed": false
   }
  },
  {
   "cell_type": "code",
   "execution_count": null,
   "outputs": [],
   "source": [
    "# strip(), lstrip() and rstrip():\n",
    "\n",
    "# Declaring a string with repeating characters\n",
    "repeated_string = \"qqqqqqqPythonqqqqq\"\n",
    "\n",
    "# Declaring a string with repeating spaces\n",
    "repeated_string_space = \"         qqqqqqqPythonqqqqq               \"\n",
    "\n",
    "# Removing repeating characters from the string\n",
    "print(repeated_string.strip(\"q\"))\n",
    "\n",
    "# Removing repeating spaces from the string\n",
    "print(repeated_string_space.strip())\n",
    "\n",
    "# Declaring a string with repeating characters on the left side\n",
    "left_repeat = \"qqqqqApple\"\n",
    "\n",
    "# Declaring a string with repeating characters on the right side\n",
    "right_repeat = \"Appleqqqqq\"\n",
    "\n",
    "# Removing repeating characters from the left side of the string\n",
    "print(left_repeat.lstrip(\"q\"))\n",
    "\n",
    "# Removing repeating characters from the right side of the string\n",
    "print(right_repeat.rstrip(\"q\"))"
   ],
   "metadata": {
    "collapsed": false
   }
  },
  {
   "cell_type": "code",
   "execution_count": null,
   "outputs": [],
   "source": [
    "# maketrans():\n",
    "\n",
    "# Declaring a string value\n",
    "string = \"abc\"\n",
    "\n",
    "# Creating a dictionary to store the mapping of characters\n",
    "dictionary = {\"a\": \"123\", \"b\": \"456\", \"c\": \"789\"}\n",
    "\n",
    "# Using the walrus operator to assign the value of the mapping table to a variable\n",
    "print(table := string.maketrans(dictionary))\n",
    "\n",
    "# translate():\n",
    "\n",
    "# Replacing characters in the string using the mapping table obtained from maketrans()\n",
    "print(string.translate(table))"
   ],
   "metadata": {
    "collapsed": false
   }
  },
  {
   "cell_type": "code",
   "execution_count": null,
   "outputs": [],
   "source": [
    "# replace():\n",
    "\n",
    "# Declaring a word\n",
    "word = \"hello\"\n",
    "\n",
    "# Replacing a character in the word\n",
    "print(word.replace(\"l\", \"y\"))"
   ],
   "metadata": {
    "collapsed": false
   }
  },
  {
   "cell_type": "code",
   "execution_count": null,
   "outputs": [],
   "source": [
    "# partition():\n",
    "\n",
    "# Declaring a sentence\n",
    "sentence = \"Hello I am good\"\n",
    "\n",
    "# Separating the sentence based on the separator \"am\" and returning a tuple\n",
    "print(sentence.partition(\"am\"))"
   ],
   "metadata": {
    "collapsed": false
   }
  },
  {
   "cell_type": "code",
   "execution_count": null,
   "outputs": [],
   "source": [
    "# splitlines():\n",
    "\n",
    "\"\"\"Used to split a string into separate lines based on escape sequences, such as \\n and \\r.\"\"\"\n",
    "\n",
    "value = \"Hello \\n world \\r I am born in India.\"\n",
    "\n",
    "# splitlines() without the keepend parameter\n",
    "print(\"splitlines() without keepend:\", value.splitlines())\n",
    "\n",
    "# splitlines() with keepend set to True\n",
    "print(\"splitlines() with keepend=True:\", value.splitlines(True))"
   ],
   "metadata": {
    "collapsed": false
   }
  },
  {
   "cell_type": "code",
   "execution_count": null,
   "outputs": [],
   "source": [
    "# zfill():\n",
    "\n",
    "\"\"\"Returns a copy of the string with '0' characters padded on the left side, based on the specified width.\"\"\"\n",
    "\n",
    "string = \"hello\"\n",
    "\n",
    "# padding the string with 5 '0' characters\n",
    "print(\"zfill() with width=10:\", string.zfill(10))"
   ],
   "metadata": {
    "collapsed": false
   }
  },
  {
   "cell_type": "code",
   "execution_count": null,
   "outputs": [],
   "source": [
    "# rfind():\n",
    "\n",
    "\"\"\"Searches for the specified substring in the string, starting from the right side of the string.\"\"\"\n",
    "\n",
    "print(\"rfind() result:\", \"appleapple\".rfind(\"l\"))"
   ],
   "metadata": {
    "collapsed": false
   }
  },
  {
   "cell_type": "code",
   "execution_count": null,
   "outputs": [],
   "source": [
    "# rindex():\n",
    "\n",
    "\"\"\"Similar to rfind(), but raises an error if the substring is not found.\"\"\"\n",
    "\n",
    "print(\"rindex() result:\", \"appleapple\".rindex(\"l\"))"
   ],
   "metadata": {
    "collapsed": false
   }
  },
  {
   "cell_type": "code",
   "execution_count": null,
   "outputs": [],
   "source": [
    "# swapcase():\n",
    "\n",
    "\"\"\"Converts upper case characters to lower case, and vice versa.\"\"\"\n",
    "\n",
    "print(\"swapcase() result:\", \"AbCdEf\".swapcase())"
   ],
   "metadata": {
    "collapsed": false
   }
  }
 ],
 "metadata": {
  "kernelspec": {
   "display_name": "Python 3",
   "language": "python",
   "name": "python3"
  },
  "language_info": {
   "codemirror_mode": {
    "name": "ipython",
    "version": 3
   },
   "file_extension": ".py",
   "mimetype": "text/x-python",
   "name": "python",
   "nbconvert_exporter": "python",
   "pygments_lexer": "ipython3",
   "version": "3.8.1"
  }
 },
 "nbformat": 4,
 "nbformat_minor": 2
}
