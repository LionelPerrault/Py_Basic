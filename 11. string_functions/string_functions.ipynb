{
 "cells": [
  {
   "cell_type": "markdown",
   "metadata": {},
   "source": [
    "# String Functions"
   ]
  },
  {
   "cell_type": "markdown",
   "metadata": {},
   "source": [
    "## There are various built-in methods that can be implemented on strings."
   ]
  },
  {
   "cell_type": "markdown",
   "metadata": {},
   "source": [
    "# capitalize():"
   ]
  },
  {
   "cell_type": "markdown",
   "metadata": {},
   "source": [
    "## capitalize() changes the first letter of the string into capital letter.\n",
    "\n",
    "\n"
   ]
  },
  {
   "cell_type": "code",
   "execution_count": 2,
   "metadata": {},
   "outputs": [
    {
     "name": "stdout",
     "output_type": "stream",
     "text": [
      "Smallletter\n"
     ]
    }
   ],
   "source": [
    "string_ = \"smallletter\"  # Declaring a variable with string value.\n",
    "print(string_.capitalize())"
   ]
  },
  {
   "cell_type": "markdown",
   "metadata": {},
   "source": [
    "# casefold():\n",
    "\n",
    "## casefold() is an aggressive lower() method which converts string to casefolded string."
   ]
  },
  {
   "cell_type": "code",
   "execution_count": 3,
   "metadata": {},
   "outputs": [],
   "source": [
    "caps_string = \"APPLE\""
   ]
  },
  {
   "cell_type": "code",
   "execution_count": 4,
   "metadata": {},
   "outputs": [
    {
     "name": "stdout",
     "output_type": "stream",
     "text": [
      "apple\n"
     ]
    }
   ],
   "source": [
    "print(caps_string.casefold())"
   ]
  },
  {
   "cell_type": "markdown",
   "metadata": {},
   "source": [
    "# center():"
   ]
  },
  {
   "cell_type": "markdown",
   "metadata": {},
   "source": [
    "\n",
    "## center() is used to center a string at the center of certain charcater that are repeating on left and right.\n",
    "\n",
    "## Synatx: variable_name.center(width, fillchar) \n"
   ]
  },
  {
   "cell_type": "markdown",
   "metadata": {},
   "source": [
    "## Takes two arguments:\n",
    "1. width    => It is the complete length of the string that the resulting string must have.<br>\n",
    "2. fillchar => Which character should be repeated on the left and right.<br>\n",
    "__NOTE__ : If fillchar is not specified then the default character is space.<br>\n"
   ]
  },
  {
   "cell_type": "code",
   "execution_count": 5,
   "metadata": {},
   "outputs": [
    {
     "name": "stdout",
     "output_type": "stream",
     "text": [
      "gggggggggAPPLEgggggggggg\n"
     ]
    }
   ],
   "source": [
    "print(caps_string.center(24, \"g\"))"
   ]
  },
  {
   "cell_type": "markdown",
   "metadata": {},
   "source": [
    "# count()"
   ]
  },
  {
   "cell_type": "markdown",
   "metadata": {},
   "source": [
    "## count() is used to count the occurance of a character or a substring in the original string."
   ]
  },
  {
   "cell_type": "code",
   "execution_count": 6,
   "metadata": {},
   "outputs": [
    {
     "name": "stdout",
     "output_type": "stream",
     "text": [
      "3\n"
     ]
    }
   ],
   "source": [
    "print(string_.count(\"l\"))"
   ]
  },
  {
   "cell_type": "markdown",
   "metadata": {},
   "source": [
    "\n",
    "## Syntax: variable_name.encode(encoding, errors) \n",
    "<br>\n"
   ]
  },
  {
   "cell_type": "markdown",
   "metadata": {},
   "source": [
    "# encode()\n"
   ]
  },
  {
   "cell_type": "markdown",
   "metadata": {},
   "source": [
    "## encode() returns an encoded version of the string."
   ]
  },
  {
   "cell_type": "markdown",
   "metadata": {},
   "source": [
    "## Takes two arguments: \n",
    "1. encoding => Any supported encoding format in python.\n",
    "2. errors   => Response when encoding fails."
   ]
  },
  {
   "cell_type": "raw",
   "metadata": {},
   "source": [
    "Errors:\n",
    "strict              => default response which raises a UnicodeDecodeError exception on failure.\n",
    "ignore              => ignores the unencodable unicode from the result\n",
    "replace             => replaces the unencodable unicode to a question mark ?\n",
    "xmlcharrefreplace   => inserts XML character reference instead of unencodable unicodebb\n",
    "backslashreplace    => inserts a \\\\uNNNN espace sequence instead of unencodable unicode\n",
    "namereplace         => inserts a \\N{...} escape sequence instead of unencodable unicode"
   ]
  },
  {
   "cell_type": "markdown",
   "metadata": {},
   "source": [
    "# endswith():"
   ]
  },
  {
   "cell_type": "markdown",
   "metadata": {},
   "source": [
    "### Returns True if a string ends with specified suffix."
   ]
  },
  {
   "cell_type": "code",
   "execution_count": 9,
   "metadata": {},
   "outputs": [
    {
     "name": "stdout",
     "output_type": "stream",
     "text": [
      "True\n",
      "False\n"
     ]
    }
   ],
   "source": [
    "print(string_.endswith(\"letter\"))  # Returns True\n",
    "print(string_.endswith(\"e\"))  # Returns False"
   ]
  },
  {
   "cell_type": "markdown",
   "metadata": {},
   "source": [
    "# expandstab():"
   ]
  },
  {
   "cell_type": "markdown",
   "metadata": {},
   "source": [
    "## Syntax: variable_name.expandstab(tabsize=8)"
   ]
  },
  {
   "cell_type": "code",
   "execution_count": null,
   "metadata": {},
   "outputs": [],
   "source": [
    "* Expands a tab space into white spaces passed as argument.\n",
    "* Default tabsize is 8."
   ]
  },
  {
   "cell_type": "code",
   "execution_count": 11,
   "metadata": {},
   "outputs": [
    {
     "name": "stdout",
     "output_type": "stream",
     "text": [
      "    Hello\n"
     ]
    }
   ],
   "source": [
    "print(\"    Hello\".expandtabs(20))"
   ]
  },
  {
   "cell_type": "markdown",
   "metadata": {},
   "source": [
    "# find():"
   ]
  },
  {
   "cell_type": "markdown",
   "metadata": {},
   "source": [
    "## Used to find a substring or a character in a string.\n",
    "## It returns the starting index of the substring or return -1 if the substring is not found."
   ]
  },
  {
   "cell_type": "code",
   "execution_count": 12,
   "metadata": {},
   "outputs": [
    {
     "name": "stdout",
     "output_type": "stream",
     "text": [
      "5\n"
     ]
    }
   ],
   "source": [
    "print(string_.find(\"let\"))"
   ]
  },
  {
   "cell_type": "markdown",
   "metadata": {},
   "source": [
    "# format_map():"
   ]
  },
  {
   "cell_type": "markdown",
   "metadata": {},
   "source": [
    "## It is similar to format function but takes a single dictionary as input."
   ]
  },
  {
   "cell_type": "code",
   "execution_count": 13,
   "metadata": {},
   "outputs": [
    {
     "name": "stdout",
     "output_type": "stream",
     "text": [
      "4-5\n"
     ]
    }
   ],
   "source": [
    "dictionary = {\"x\": 4, \"y\": 5}  # Declaring a dictionary with two key value pair.\n",
    "print(\"{x}-{y}\".format_map(dictionary))"
   ]
  },
  {
   "cell_type": "markdown",
   "metadata": {},
   "source": [
    "# index():"
   ]
  },
  {
   "cell_type": "markdown",
   "metadata": {},
   "source": [
    "## Returns the initial or start index of a substring inside the string.\n",
    "## Returns value error if substring or character is not found."
   ]
  },
  {
   "cell_type": "code",
   "execution_count": 14,
   "metadata": {},
   "outputs": [
    {
     "name": "stdout",
     "output_type": "stream",
     "text": [
      "3\n"
     ]
    },
    {
     "ename": "ValueError",
     "evalue": "substring not found",
     "output_type": "error",
     "traceback": [
      "\u001B[1;31m---------------------------------------------------------------------------\u001B[0m",
      "\u001B[1;31mValueError\u001B[0m                                Traceback (most recent call last)",
      "\u001B[1;32m<ipython-input-14-0d7178701bde>\u001B[0m in \u001B[0;36m<module>\u001B[1;34m\u001B[0m\n\u001B[0;32m      1\u001B[0m \u001B[0mprint\u001B[0m\u001B[1;33m(\u001B[0m\u001B[0mstring_\u001B[0m\u001B[1;33m.\u001B[0m\u001B[0mindex\u001B[0m\u001B[1;33m(\u001B[0m\u001B[1;34m'l'\u001B[0m\u001B[1;33m)\u001B[0m\u001B[1;33m)\u001B[0m\u001B[1;33m\u001B[0m\u001B[1;33m\u001B[0m\u001B[0m\n\u001B[1;32m----> 2\u001B[1;33m \u001B[0mprint\u001B[0m\u001B[1;33m(\u001B[0m\u001B[0mstring_\u001B[0m\u001B[1;33m.\u001B[0m\u001B[0mindex\u001B[0m\u001B[1;33m(\u001B[0m\u001B[1;34m'z'\u001B[0m\u001B[1;33m)\u001B[0m\u001B[1;33m)\u001B[0m  \u001B[1;31m# Will give value error.\u001B[0m\u001B[1;33m\u001B[0m\u001B[1;33m\u001B[0m\u001B[0m\n\u001B[0m",
      "\u001B[1;31mValueError\u001B[0m: substring not found"
     ]
    }
   ],
   "source": [
    "print(string_.index(\"l\"))\n",
    "print(string_.index(\"z\"))  # Will give value error."
   ]
  },
  {
   "cell_type": "markdown",
   "metadata": {},
   "source": [
    "# join():"
   ]
  },
  {
   "cell_type": "markdown",
   "metadata": {},
   "source": [
    "## Used to concatinate any iterable into a single string value.\n",
    "## Only string can be passed in as argument or a list, tuple containing only strings."
   ]
  },
  {
   "cell_type": "code",
   "execution_count": 16,
   "metadata": {},
   "outputs": [
    {
     "name": "stdout",
     "output_type": "stream",
     "text": [
      "hello\n"
     ]
    }
   ],
   "source": [
    "string_list = [\"h\", \"e\", \"l\", \"l\", \"o\"]  # Declaring a list of characters.\n",
    "\n",
    "print(\"\".join(string_list))"
   ]
  },
  {
   "cell_type": "markdown",
   "metadata": {},
   "source": [
    "# ljust() and rjust():"
   ]
  },
  {
   "cell_type": "markdown",
   "metadata": {},
   "source": [
    "## This methods will return a left-justified or right-justified string based on the given width."
   ]
  },
  {
   "cell_type": "markdown",
   "metadata": {},
   "source": [
    "### Syntax: varaible_name.ljust(width, fillchar)"
   ]
  },
  {
   "cell_type": "raw",
   "metadata": {},
   "source": [
    "width => It is the complete length of the string that the resulting string must have.\n",
    "fillchar => Minimum width of the string.\n",
    "NOTE : If fillchar is not specified then the default character is space. "
   ]
  },
  {
   "cell_type": "code",
   "execution_count": 1,
   "metadata": {},
   "outputs": [
    {
     "name": "stdout",
     "output_type": "stream",
     "text": [
      "cat*******\n",
      "*******cat\n"
     ]
    }
   ],
   "source": [
    "animal = \"cat\"  # Declaring a string.\n",
    "\n",
    "print(animal.ljust(10, \"*\"))  # Left justify.\n",
    "\n",
    "print(animal.rjust(10, \"*\"))  # Right justify."
   ]
  },
  {
   "cell_type": "markdown",
   "metadata": {},
   "source": [
    "# lower() and upper():"
   ]
  },
  {
   "cell_type": "markdown",
   "metadata": {},
   "source": [
    "## Used to convert a lower-case string to upper-case and vice versa."
   ]
  },
  {
   "cell_type": "code",
   "execution_count": 2,
   "metadata": {},
   "outputs": [
    {
     "name": "stdout",
     "output_type": "stream",
     "text": [
      "ABCD\n",
      "abcd\n"
     ]
    }
   ],
   "source": [
    "lower_case = \"abcd\"  # Declaring a string.\n",
    "\n",
    "upper_case = \"ABCD\"  # Declaring a string.\n",
    "\n",
    "print(lower_case.upper())\n",
    "\n",
    "print(upper_case.lower())"
   ]
  },
  {
   "cell_type": "markdown",
   "metadata": {},
   "source": [
    "# strip(), lstrip() and rstrip():"
   ]
  },
  {
   "cell_type": "markdown",
   "metadata": {},
   "source": [
    "## Used to remove any repeating characters from a string from both sides. "
   ]
  },
  {
   "cell_type": "markdown",
   "metadata": {},
   "source": [
    "### Used to remove any repeating characters from a string from both sides. \n",
    "### This method takes one argument i.e the repeating character that must be removed.\n",
    "### When no argument is passed the default argument is space. "
   ]
  },
  {
   "cell_type": "code",
   "execution_count": 6,
   "metadata": {},
   "outputs": [
    {
     "name": "stdout",
     "output_type": "stream",
     "text": [
      "Python\n",
      "qqqqqqqPythonqqqqq\n"
     ]
    }
   ],
   "source": [
    "repeated_string = \"qqqqqqqPythonqqqqq\"  # Declaring a string.\n",
    "\n",
    "repeated_string_space = \"         qqqqqqqPythonqqqqq               \"  # Declaring a string.\n",
    "\n",
    "\n",
    "print(repeated_string.strip(\"q\"))\n",
    "\n",
    "print(repeated_string_space.strip())  # When no argument is passed the default argument is space."
   ]
  },
  {
   "cell_type": "code",
   "execution_count": 7,
   "metadata": {},
   "outputs": [
    {
     "name": "stdout",
     "output_type": "stream",
     "text": [
      "Apple\n",
      "Apple\n"
     ]
    }
   ],
   "source": [
    "left_repeat = \"qqqqqApple\"  # Declaring a string.\n",
    "\n",
    "right_repeat = \"Appleqqqqq\"  # Declaring a string.\n",
    "\n",
    "print(left_repeat.lstrip(\"q\"))\n",
    "\n",
    "print(right_repeat.rstrip(\"q\"))"
   ]
  },
  {
   "cell_type": "markdown",
   "metadata": {},
   "source": [
    "\n",
    "# maketrans():"
   ]
  },
  {
   "cell_type": "markdown",
   "metadata": {},
   "source": [
    "### Maketrans returns a mapping table that can be used for transaltaion using the translate() method.\n",
    "### Maketrans can be useful for translating various characters with other charcters in a particular string.\n",
    "\n",
    "__Syntax__: string.maketrans(x=dict, y, z)\n",
    "* y and z are optional.\n",
    "* x is a dictionary\n"
   ]
  },
  {
   "cell_type": "code",
   "execution_count": 2,
   "metadata": {},
   "outputs": [
    {
     "name": "stdout",
     "output_type": "stream",
     "text": [
      "{97: '123', 98: '456', 99: '789'}\n"
     ]
    }
   ],
   "source": [
    "string = \"abc\"  # Declaring s tring value.\n",
    "\n",
    "dictionary = {\"a\": \"123\", \"b\": \"456\", \"c\": \"789\"}\n",
    "\n",
    "print(table := string.maketrans(dictionary))  # Using warlus operator."
   ]
  },
  {
   "cell_type": "markdown",
   "metadata": {},
   "source": [
    "# translate():"
   ]
  },
  {
   "cell_type": "markdown",
   "metadata": {},
   "source": [
    "### Used to replace number indvidual characters to another character with the help of translation table obtained from maketrans() method.<br>\n",
    "\n",
    "__Syntax__ : string.translate(table)"
   ]
  },
  {
   "cell_type": "code",
   "execution_count": 3,
   "metadata": {},
   "outputs": [
    {
     "name": "stdout",
     "output_type": "stream",
     "text": [
      "123456789\n"
     ]
    }
   ],
   "source": [
    "print(string.translate(table))"
   ]
  },
  {
   "cell_type": "markdown",
   "metadata": {},
   "source": [
    "\n"
   ]
  },
  {
   "cell_type": "markdown",
   "metadata": {},
   "source": [
    "# replace():"
   ]
  },
  {
   "cell_type": "markdown",
   "metadata": {},
   "source": [
    "### It is used to replace a character or a substring in a string.\n",
    "\n",
    "__Syntax__: string.replace(old, new, count)\n",
    "\n",
    "* old => It is the string that is to be replaced.\n",
    "* new => It is the string that is going to replace the old string.\n",
    "\n",
    "\n"
   ]
  },
  {
   "cell_type": "code",
   "execution_count": 6,
   "metadata": {},
   "outputs": [
    {
     "name": "stdout",
     "output_type": "stream",
     "text": [
      "heyyo\n"
     ]
    }
   ],
   "source": [
    "word = \"hello\"\n",
    "\n",
    "print(word.replace(\"l\", \"y\"))"
   ]
  },
  {
   "cell_type": "markdown",
   "metadata": {},
   "source": [
    "# partition():"
   ]
  },
  {
   "cell_type": "markdown",
   "metadata": {},
   "source": [
    "### It is uses to seperate a string based on the seperator passes as argument. It returnsa a tuple as output.<br>\n",
    "\n",
    "__Syntax__: variable.partition(seperator)\n"
   ]
  },
  {
   "cell_type": "code",
   "execution_count": 7,
   "metadata": {},
   "outputs": [
    {
     "name": "stdout",
     "output_type": "stream",
     "text": [
      "('Hello I ', 'am', ' good')\n"
     ]
    }
   ],
   "source": [
    "sentence = \"Hello I am good\"\n",
    "\n",
    "print(sentence.partition(\"am\"))"
   ]
  },
  {
   "cell_type": "markdown",
   "metadata": {},
   "source": [
    "# splitlines():"
   ]
  },
  {
   "cell_type": "markdown",
   "metadata": {},
   "source": [
    "### Used to split a string based on escape sequence like \\n and \\r."
   ]
  },
  {
   "cell_type": "code",
   "execution_count": 8,
   "metadata": {},
   "outputs": [
    {
     "name": "stdout",
     "output_type": "stream",
     "text": [
      "['Hello ', ' world ', ' I am born in India.']\n"
     ]
    }
   ],
   "source": [
    "value = \"Hello \\n world \\r I am born in India.\"  # String value with escape sequence.\n",
    "\n",
    "print(value.splitlines())"
   ]
  },
  {
   "cell_type": "markdown",
   "metadata": {},
   "source": [
    "### This function has parameter called keepend=False if set to True it will also show the escape sequence."
   ]
  },
  {
   "cell_type": "code",
   "execution_count": 9,
   "metadata": {},
   "outputs": [
    {
     "name": "stdout",
     "output_type": "stream",
     "text": [
      "['Hello \\n', ' world \\r', ' I am born in India.']\n"
     ]
    }
   ],
   "source": [
    "print(value.splitlines(True))"
   ]
  },
  {
   "cell_type": "markdown",
   "metadata": {},
   "source": [
    "# zfill():"
   ]
  },
  {
   "cell_type": "markdown",
   "metadata": {},
   "source": [
    "### This function will return a copy of the string with '0' padded on the left side of the string based on the specified width.<br>\n",
    "\n",
    "### If a string width is 5 but the parameter inside zfill() iss 10 then 5 '0' will be padded on the left side of the string."
   ]
  },
  {
   "cell_type": "code",
   "execution_count": 10,
   "metadata": {},
   "outputs": [
    {
     "name": "stdout",
     "output_type": "stream",
     "text": [
      "00000hello\n"
     ]
    }
   ],
   "source": [
    "st = \"hello\"\n",
    "\n",
    "print(st.zfill(10))"
   ]
  },
  {
   "cell_type": "markdown",
   "metadata": {},
   "source": [
    "# rfind():"
   ]
  },
  {
   "cell_type": "markdown",
   "metadata": {},
   "source": [
    "### This function is similar to find() but starts checking for the character or substring from the right side of the string."
   ]
  },
  {
   "cell_type": "code",
   "execution_count": 11,
   "metadata": {},
   "outputs": [
    {
     "name": "stdout",
     "output_type": "stream",
     "text": [
      "8\n"
     ]
    }
   ],
   "source": [
    "print(\"appleapple\".rfind(\"l\"))"
   ]
  },
  {
   "cell_type": "markdown",
   "metadata": {},
   "source": [
    "# rindex():"
   ]
  },
  {
   "cell_type": "markdown",
   "metadata": {},
   "source": [
    "### This function is similar to index() but starts checking for the character or substring from the right side of the string."
   ]
  },
  {
   "cell_type": "code",
   "execution_count": 13,
   "metadata": {},
   "outputs": [
    {
     "name": "stdout",
     "output_type": "stream",
     "text": [
      "8\n"
     ]
    }
   ],
   "source": [
    "print(\"appleapple\".rindex(\"l\"))"
   ]
  },
  {
   "cell_type": "markdown",
   "metadata": {},
   "source": [
    "# swapcase():"
   ]
  },
  {
   "cell_type": "markdown",
   "metadata": {},
   "source": [
    "### This function converts all the upper case letters to lower case and vice versa."
   ]
  },
  {
   "cell_type": "code",
   "execution_count": 15,
   "metadata": {},
   "outputs": [
    {
     "name": "stdout",
     "output_type": "stream",
     "text": [
      "aBcDeF\n"
     ]
    }
   ],
   "source": [
    "print(\"AbCdEf\".swapcase())"
   ]
  },
  {
   "cell_type": "code",
   "execution_count": null,
   "metadata": {},
   "outputs": [],
   "source": []
  }
 ],
 "metadata": {
  "kernelspec": {
   "display_name": "Python 3",
   "language": "python",
   "name": "python3"
  },
  "language_info": {
   "codemirror_mode": {
    "name": "ipython",
    "version": 3
   },
   "file_extension": ".py",
   "mimetype": "text/x-python",
   "name": "python",
   "nbconvert_exporter": "python",
   "pygments_lexer": "ipython3",
   "version": "3.8.1"
  }
 },
 "nbformat": 4,
 "nbformat_minor": 2
}
