{
 "cells": [
  {
   "cell_type": "markdown",
   "metadata": {},
   "source": [
    "# Complement and Shift"
   ]
  },
  {
   "cell_type": "markdown",
   "metadata": {},
   "source": [
    "## Complement Operator (~)\n",
    "\n",
    "#### The complement operator flips the bits of a binary number, converting 0s to 1s and 1s to 0s.\n",
    "#### 2's Complement is the method used to convert negative numbers to positive numbers and store them in the computer.\n",
    "\n",
    "```\n",
    "####   Binary of 12           = 00001100\n",
    "####   Complement of 00001100 = 11110011\n",
    "\n",
    "####   Binary of 13                = 00001101\n",
    "####   Complement of 00001101      = 11110010\n",
    "####   2's Complement of 11110010  = 11110011  2's 5. complement = 1's 5. complement + 1\n",
    "```"
   ]
  },
  {
   "cell_type": "code",
   "execution_count": 6,
   "metadata": {},
   "outputs": [
    {
     "name": "stdout",
     "output_type": "stream",
     "text": [
      "-13\n"
     ]
    }
   ],
   "source": [
    "print(~12)  # Printing the complement of 12\n",
    "\n",
    "# ~12 = -13\n",
    "\n",
    "# The above line of code uses the 2's complement method to convert a negative number to positive and store it in the computer.\n",
    "# Here, the binary representation of 12 is 00001100, and the complement of this number is 11110011.\n",
    "# The 2's complement of 11110011 is 11110011, which is equal to the 1's complement + 1."
   ]
  },
  {
   "cell_type": "markdown",
   "metadata": {},
   "source": [
    "## Left Shift Operator (<<)\n",
    "\n",
    "#### The left shift operator shifts the bits of a binary number to the left, effectively multiplying the number by 2^n (where n is the number of shifts).\n",
    "\n",
    "```\n",
    "#  Binary of 12                          = 1100.0000\n",
    "#  Applying left shift of 2 to 1100.0000 = 1100000.00\n",
    "\n",
    "#  print(int(0b110000)) => 48\n",
    "```"
   ]
  },
  {
   "cell_type": "code",
   "execution_count": 4,
   "metadata": {},
   "outputs": [
    {
     "name": "stdout",
     "output_type": "stream",
     "text": [
      "48\n"
     ]
    }
   ],
   "source": [
    "print(12 << 2)\n",
    "\n",
    "# The binary representation of 12 is 1100.0000, and after applying the left shift operator by 2, it becomes 1100000.00.\n",
    "# Converting the binary number back to decimal gives us the output 48."
   ]
  },
  {
   "cell_type": "markdown",
   "metadata": {},
   "source": [
    "## Right Shift Operator (>>)\n",
    "\n",
    "#### The right shift operator shifts the bits of a binary number to the right, effectively dividing the number by 2^n (where n is the number of shifts).\n",
    "\n",
    "````\n",
    "#  Binary of 12                           = 1100.0000\n",
    "#  Applying right shift of 2 to 1100.0000 = 11.0000000\n",
    "\n",
    "#  print(int(0b11)) => 3\n",
    "```"
   ]
  },
  {
   "cell_type": "code",
   "execution_count": 5,
   "metadata": {},
   "outputs": [
    {
     "name": "stdout",
     "output_type": "stream",
     "text": [
      "3\n"
     ]
    }
   ],
   "source": [
    "print(12 >> 2)\n",
    "\n",
    "# The binary representation of 12 is 1100.0000, and after applying the right shift operator by 2, it becomes 11.0000000.\n",
    "# Converting the binary number back to decimal gives us the output 3.\n"
   ]
  }
 ],
 "metadata": {
  "kernelspec": {
   "display_name": "Python 3",
   "language": "python",
   "name": "python3"
  },
  "language_info": {
   "codemirror_mode": {
    "name": "ipython",
    "version": 3
   },
   "file_extension": ".py",
   "mimetype": "text/x-python",
   "name": "python",
   "nbconvert_exporter": "python",
   "pygments_lexer": "ipython3",
   "version": "3.8.1"
  }
 },
 "nbformat": 4,
 "nbformat_minor": 2
}
