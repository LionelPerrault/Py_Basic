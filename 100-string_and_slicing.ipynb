{
 "cells": [
  {
   "cell_type": "markdown",
   "metadata": {},
   "source": [
    "# In python a single character or sequence of characters is treated as a string."
   ]
  },
  {
   "cell_type": "markdown",
   "metadata": {},
   "source": [
    "## There are two techniques indexing and slicing that can be applied to strings in Python.\n",
    "\n",
    "## Indexing is technique used to view a single character from a string."
   ]
  },
  {
   "cell_type": "markdown",
   "metadata": {},
   "source": [
    "###  \"In python indexing starts form 0.\""
   ]
  },
  {
   "cell_type": "code",
   "execution_count": 1,
   "metadata": {},
   "outputs": [],
   "source": [
    "variable_name = \"Hello\"  # Declaring a string.\n"
   ]
  },
  {
   "cell_type": "raw",
   "metadata": {},
   "source": [
    "H e l l o\n",
    "0 1 2 3 4"
   ]
  },
  {
   "cell_type": "markdown",
   "metadata": {},
   "source": [
    "# Indexing Syntax: \n",
    "###                  variable_name[index_value]"
   ]
  },
  {
   "cell_type": "code",
   "execution_count": 2,
   "metadata": {},
   "outputs": [],
   "source": [
    "# Indexing to view character e from variable_name:\n",
    "\n",
    "print(variable_name[1])"
   ]
  },
  {
   "cell_type": "code",
   "execution_count": 3,
   "metadata": {},
   "outputs": [
    {
     "name": "stdout",
     "output_type": "stream",
     "text": [
      "l\n"
     ]
    }
   ],
   "source": [
    "# Indexing to view character l from variable_name:\n",
    "\n",
    "print(variable_name[2])"
   ]
  },
  {
   "cell_type": "raw",
   "metadata": {},
   "source": [
    "1. String slicing is a very powerful technique that can be used very easily in python.\n",
    "\n",
    "2. Slicing is the technique used to cut of a substring from a string and view it."
   ]
  },
  {
   "cell_type": "raw",
   "metadata": {},
   "source": [
    "** There are two types of slicing in python:\n",
    "        1. Positional slicing\n",
    "        2. Negative slicing"
   ]
  },
  {
   "cell_type": "markdown",
   "metadata": {},
   "source": [
    "# Slicing Syntax: \n",
    "### variable_name[start_index:stop_index:step_count]"
   ]
  },
  {
   "cell_type": "markdown",
   "metadata": {},
   "source": [
    "### start_index => From were the slicing has to start\n",
    "### stop_index => Where the slicing has to stop and stop_index is always (n - 1) \n",
    "#### Example: 9 => (9 - 1 = 8)\n",
    "### step_count => How many characters should be skipped when slicing."
   ]
  },
  {
   "cell_type": "markdown",
   "metadata": {},
   "source": [
    "# \"POSITIVE SLICING\""
   ]
  },
  {
   "cell_type": "code",
   "execution_count": 4,
   "metadata": {},
   "outputs": [],
   "source": [
    "slice_variable = \"Antidisestablishmentarianism\"  # Declaring a string.\n"
   ]
  },
  {
   "cell_type": "raw",
   "metadata": {},
   "source": [
    "A n t i d i s e s t  a  b  l  i  s  h  m  e  n  t  a  r  i  a  n  i  s  m\n",
    "0 1 2 3 4 5 6 7 8 9 10 11 12 13 14 15 16 17 18 19 20 21 22 23 24 25 26 27"
   ]
  },
  {
   "cell_type": "code",
   "execution_count": 5,
   "metadata": {},
   "outputs": [
    {
     "name": "stdout",
     "output_type": "stream",
     "text": [
      "establishment\n"
     ]
    }
   ],
   "source": [
    "# Slicing 'establishment' from slice_variable:\n",
    "\n",
    "print(slice_variable[7:20])\n",
    "\n",
    "# Here stop index is 20 so it is 19 = 20 - 1 hence it stops at 't'."
   ]
  },
  {
   "cell_type": "code",
   "execution_count": 6,
   "metadata": {},
   "outputs": [
    {
     "name": "stdout",
     "output_type": "stream",
     "text": [
      "Antidisestablishmentari\n"
     ]
    }
   ],
   "source": [
    "# How to get all the characters before certain index value:\n",
    "\n",
    "print(slice_variable[:23])\n",
    "\n",
    "# To get all the values before certain index value just specify the stop_index alone."
   ]
  },
  {
   "cell_type": "code",
   "execution_count": 7,
   "metadata": {},
   "outputs": [
    {
     "name": "stdout",
     "output_type": "stream",
     "text": [
      "establishmentarianism\n"
     ]
    }
   ],
   "source": [
    "# How to get all the characters after certain index value:\n",
    "\n",
    "print(slice_variable[7:])\n",
    "\n",
    "# To get all the values after certain index value just specify the start_index alone."
   ]
  },
  {
   "cell_type": "markdown",
   "metadata": {},
   "source": [
    "# Using the step_count to skip characters"
   ]
  },
  {
   "cell_type": "markdown",
   "metadata": {},
   "source": [
    "## The step_count works in such a way that it splits the given value into 1 + remaining.\n",
    "## For example:\n",
    "###    If step_count is 2 => It is split into 1 + 1\n",
    "###    If step_count is 3 => It is split into 1 + 2\n",
    "###    If step_count is 4 => It is split into 1 + 3"
   ]
  },
  {
   "cell_type": "code",
   "execution_count": 8,
   "metadata": {},
   "outputs": [
    {
     "name": "stdout",
     "output_type": "stream",
     "text": [
      "eaimt\n"
     ]
    }
   ],
   "source": [
    "# Using step_count to skip 2 values:\n",
    "\n",
    "print(slice_variable[7:20:3])"
   ]
  },
  {
   "cell_type": "markdown",
   "metadata": {},
   "source": [
    "## In this example it works as 1 + 3 so that 1 character is accepted and 2 characters are skipped.\n",
    "###    'e' - 1 is accepted and 'st' - 2 are skipped.\n",
    "###    'a' - 1 is accepted and 'bl' - 2 are skipped.\n",
    "###    'i' - 1 is accepted and 'sh' - 2 are skipped.\n",
    "###    'm' - 1 is accepted and 'en' - 2 are skipped.\n",
    "###    't' - 1 is accepted and there are no more characters."
   ]
  },
  {
   "cell_type": "markdown",
   "metadata": {},
   "source": [
    "# \"NEGATIVE INDEXING\""
   ]
  },
  {
   "cell_type": "markdown",
   "metadata": {},
   "source": [
    "### Negative indexing is used to index values from the last i.e is the right hand side.\n",
    "\n",
    "### In python negative indexing starts from -1."
   ]
  },
  {
   "cell_type": "raw",
   "metadata": {},
   "source": [
    " A   n   t   i   d   i   s   e   s   t   a   b   l   i   s   h   m   e    n  t  a  r  i  a  n  i  s  m\n",
    "-28 -27 -26 -25 -24 -23 -22 -21 -20 -19 -18 -17 -16 -15 -14 -13 -12  -11 -10 -9 -8 -7 -6 -5 -4 -3 -2 -1"
   ]
  },
  {
   "cell_type": "code",
   "execution_count": 9,
   "metadata": {},
   "outputs": [
    {
     "name": "stdout",
     "output_type": "stream",
     "text": [
      "m\n"
     ]
    }
   ],
   "source": [
    "# Negative indexing to view m from the slice_variable:\n",
    "\n",
    "print(slice_variable[-1])"
   ]
  },
  {
   "cell_type": "code",
   "execution_count": 10,
   "metadata": {},
   "outputs": [
    {
     "name": "stdout",
     "output_type": "stream",
     "text": [
      "s\n"
     ]
    }
   ],
   "source": [
    "# Negative indexing to view s from the slice_variable:\n",
    "\n",
    "print(slice_variable[-20])"
   ]
  },
  {
   "cell_type": "markdown",
   "metadata": {},
   "source": [
    "# \"NEGATIVE SLICING\""
   ]
  },
  {
   "cell_type": "markdown",
   "metadata": {},
   "source": [
    "### Negative slicing is used to slice values with the help of negative indexes."
   ]
  },
  {
   "cell_type": "markdown",
   "metadata": {},
   "source": [
    "### Negative slicing is used to slice values with the help of negative indexes. "
   ]
  },
  {
   "cell_type": "markdown",
   "metadata": {},
   "source": [
    "### Maximum error made while negative indexing is giving a higher start_index value on the left and lower stop_index value on the right.\n"
   ]
  },
  {
   "cell_type": "code",
   "execution_count": 11,
   "metadata": {},
   "outputs": [
    {
     "data": {
      "text/plain": [
       "''"
      ]
     },
     "execution_count": 11,
     "metadata": {},
     "output_type": "execute_result"
    }
   ],
   "source": [
    "slice_variable[-1:-3]  # Returns only null string \"\"."
   ]
  },
  {
   "cell_type": "code",
   "execution_count": 12,
   "metadata": {},
   "outputs": [
    {
     "name": "stdout",
     "output_type": "stream",
     "text": [
      "establishment\n"
     ]
    }
   ],
   "source": [
    "# Negative slicing to slice \"establishment\":\n",
    "\n",
    "print(slice_variable[-21:-8])"
   ]
  },
  {
   "cell_type": "code",
   "execution_count": 13,
   "metadata": {},
   "outputs": [
    {
     "name": "stdout",
     "output_type": "stream",
     "text": [
      "eaimt\n"
     ]
    }
   ],
   "source": [
    "# Using step_count to skip 2 values:\n",
    "\n",
    "print(slice_variable[-21:-8:3])"
   ]
  },
  {
   "cell_type": "code",
   "execution_count": null,
   "metadata": {},
   "outputs": [],
   "source": []
  }
 ],
 "metadata": {
  "kernelspec": {
   "display_name": "Python 3.8.1 64-bit",
   "language": "python",
   "name": "python38164bit3bdb2204366f4d618ef1a3baf89e9077"
  },
  "language_info": {
   "codemirror_mode": {
    "name": "ipython",
    "version": 3
   },
   "file_extension": ".py",
   "mimetype": "text/x-python",
   "name": "python",
   "nbconvert_exporter": "python",
   "pygments_lexer": "ipython3",
   "version": "3.8.1"
  }
 },
 "nbformat": 4,
 "nbformat_minor": 4
}
