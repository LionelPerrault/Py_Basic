{
 "cells": [
  {
   "cell_type": "markdown",
   "source": [
    "### In Python, a single character or a sequence of characters is treated as a string.\n",
    "### Strings can be manipulated in Python using two techniques: indexing and slicing."
   ],
   "metadata": {
    "collapsed": false
   }
  },
  {
   "cell_type": "code",
   "execution_count": null,
   "outputs": [],
   "source": [
    "# Indexing is used to view a single character from a string.\n",
    "# Indexing in Python starts from 0.\n",
    "\n",
    "variable_name = \"Hello\"\n",
    "\n",
    "# Declaring a string\n",
    "# H e l l o\n",
    "# 0 1 2 3 4\n",
    "\n",
    "# To access a character in a string using indexing, use the following syntax:\n",
    "# variable_name[index_value]\n",
    "\n",
    "# To view the character 'e' from variable_name:\n",
    "print(variable_name[1])\n",
    "\n",
    "# To view the character 'l' from variable_name:\n",
    "print(variable_name[2])"
   ],
   "metadata": {
    "collapsed": false,
    "pycharm": {
     "is_executing": true
    }
   }
  },
  {
   "cell_type": "code",
   "execution_count": null,
   "outputs": [],
   "source": [
    "# Slicing is a powerful technique to cut off a substring from a string and view it.\n",
    "# There are two types of slicing in Python:\n",
    "# 1. Positional slicing\n",
    "# 2. Negative slicing\n",
    "\n",
    "# To perform slicing on a string, use the following syntax:\n",
    "# variable_name[start_index:stop_index:step_count]\n",
    "# start_index: The starting point of the slicing\n",
    "# stop_index: The end point of the slicing, where the slicing stops. The stop_index is always (n-1).\n",
    "# For example, if the stop_index is 9, it means the slicing will stop at the 8th position.\n",
    "# step_count: The number of characters to skip during slicing.\n",
    "\n",
    "# Positional Slicing\n",
    "\n",
    "slice_variable = \"Antidisestablishmentarianism\"\n",
    "\n",
    "# Declaring a string\n",
    "# A n t i d i s e s t  a  b  l  i  s  h  m  e  n  t  a  r  i  a  n  i  s  m\n",
    "# 0 1 2 3 4 5 6 7 8 9 10 11 12 13 14 15 16 17 18 19 20 21 22 23 24 25 26 27\n",
    "\n",
    "# To slice the word 'establishment' from slice_variable:\n",
    "print(slice_variable[7:20])\n",
    "\n",
    "# To get all the characters before a certain index value:\n",
    "print(slice_variable[:23])\n",
    "\n",
    "# To get all the characters after a certain index value:\n",
    "print(slice_variable[7:])\n",
    "\n",
    "# To skip characters using step_count:\n",
    "# The step_count splits the characters into 1 + remaining.\n",
    "# For example, if step_count is 2, it means 1 character is accepted and 1 character is skipped.\n",
    "# If step_count is 3, it means 1 character is accepted and 2 characters are skipped.\n",
    "\n",
    "print(slice_variable[7:20:3])"
   ],
   "metadata": {
    "collapsed": false,
    "pycharm": {
     "is_executing": true
    }
   }
  },
  {
   "cell_type": "code",
   "execution_count": null,
   "outputs": [],
   "source": [
    "# Negative Indexing\n",
    "# Negative indexing is used to access characters from the right end of the string, starting from -1.\n",
    "\n",
    "# In the string slice_variable, negative indexing can be used as follows:\n",
    "# A   n   t   i   d   i   s   e   s   t   a   b   l   i   s   h   m   e   n   t   a   r   i   a   n   i   s   m\n",
    "# -28 -27 -26 -25 -24 -23 -22 -21 -20 -19 -18 -17 -16 -15 -14 -13 -12  -11 -10 -9 -8 -7 -6 -5 -4 -3 -2 -1\n",
    "\n",
    "# Accessing the Last Element using Negative Indexing\n",
    "\n",
    "# Negative indexing starts from -1, which represents the last element of the string.\n",
    "# The following code retrieves the last element of the string 'slice_variable'\n",
    "\n",
    "print(\"Last element of slice_variable:\", slice_variable[-1])\n",
    "\n",
    "\n",
    "# Accessing the Element before the Last using Negative Indexing\n",
    "\n",
    "# Negative indexing starts from -1, and the value of negative index increases as we go towards the first element of the string.\n",
    "# The following code retrieves the 20th element from the end of the string 'slice_variable'\n",
    "\n",
    "print(\"20th element from the end of slice_variable:\", slice_variable[-20])"
   ],
   "metadata": {
    "collapsed": false
   }
  },
  {
   "cell_type": "code",
   "execution_count": null,
   "outputs": [],
   "source": [
    "# Negative Slicing\n",
    "\n",
    "# Negative slicing is used to extract substrings from a string using negative indexes.\n",
    "# Negative indexes represent the position of elements starting from the end of the string.\n",
    "# The following code demonstrates negative slicing of the string 'slice_variable'.\n",
    "\n",
    "# Negative slicing with start_index and stop_index\n",
    "\n",
    "# To perform negative slicing, we need to specify the start_index and stop_index (inclusive and exclusive respectively).\n",
    "# The most common error in negative slicing is providing a higher start_index value on the left and a lower stop_index value on the right.\n",
    "# The following code retrieves an empty string as the result of the slicing.\n",
    "\n",
    "print(\"Negative slicing with start and stop index:\", slice_variable[-1:-3])\n",
    "\n",
    "\n",
    "# Negative slicing to extract 'establishment'\n",
    "\n",
    "# The following code retrieves the substring 'establishment' using negative slicing\n",
    "\n",
    "print(\"Extracted substring using negative slicing:\", slice_variable[-21:-8])\n",
    "\n",
    "\n",
    "# Negative slicing with step_count\n",
    "\n",
    "# The step_count argument is used to skip a specific number of elements while slicing.\n",
    "# The following code skips 2 elements while performing negative slicing.\n",
    "\n",
    "print(\"Negative slicing with step_count:\", slice_variable[-21:-8:3])"
   ],
   "metadata": {
    "collapsed": false
   }
  }
 ],
 "metadata": {
  "kernelspec": {
   "display_name": "Python 3.8.1 64-bit",
   "language": "python",
   "name": "python38164bit3bdb2204366f4d618ef1a3baf89e9077"
  },
  "language_info": {
   "codemirror_mode": {
    "name": "ipython",
    "version": 3
   },
   "file_extension": ".py",
   "mimetype": "text/x-python",
   "name": "python",
   "nbconvert_exporter": "python",
   "pygments_lexer": "ipython3",
   "version": "3.8.1"
  }
 },
 "nbformat": 4,
 "nbformat_minor": 4
}
