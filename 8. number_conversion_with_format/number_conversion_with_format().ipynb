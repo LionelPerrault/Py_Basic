{
 "cells": [
  {
   "cell_type": "markdown",
   "source": [
    "### In this code, the format() method is used for number conversion instead of bin(), oct(), hex()."
   ],
   "metadata": {
    "collapsed": false
   }
  },
  {
   "cell_type": "code",
   "execution_count": null,
   "outputs": [],
   "source": [
    "number = 20  # Declaring a decimal value.\n",
    "\n",
    "# Converting the decimal value to binary:\n",
    "print(\"Decimal to binary conversion: {:b}\".format(number))\n",
    "\n",
    "# Converting the decimal value to hexadecimal:\n",
    "print(\"Decimal to hexadecimal conversion {:x}\".format(number))\n",
    "\n",
    "# Converting the decimal value to octal:\n",
    "print(\"Decimal to octal conversion {:o}\".format(number))"
   ],
   "metadata": {
    "collapsed": false,
    "pycharm": {
     "is_executing": true
    }
   }
  },
  {
   "cell_type": "code",
   "execution_count": null,
   "outputs": [],
   "source": [
    "binary = 0b1111  # Declaring a binary value.\n",
    "\n",
    "# Converting the binary value to hexadecimal:\n",
    "print(\"Binary to hexadecimal conversion: {:x}\".format(binary))\n",
    "\n",
    "# Converting the binary value to octal:\n",
    "print(\"Binary to octal conversion: {:o}\".format(binary))"
   ],
   "metadata": {
    "collapsed": false
   }
  },
  {
   "cell_type": "code",
   "execution_count": null,
   "outputs": [],
   "source": [
    "octal = 0o14\n",
    "\n",
    "# Converting the octal value to binary:\n",
    "print(\"Octal to binary conversion: {:b}\".format(octal))\n",
    "\n",
    "# Converting the octal value to hexadecimal:\n",
    "print(\"Octal to hexadecimal conversion: {:x}\".format(octal))"
   ],
   "metadata": {
    "collapsed": false
   }
  },
  {
   "cell_type": "code",
   "execution_count": null,
   "outputs": [],
   "source": [
    "hexadecimal = 0x10000\n",
    "\n",
    "# Converting the hexadecimal value to binary:\n",
    "print(\"Hexadecimal to binary conversion: {:b}\".format(hexadecimal))\n",
    "\n",
    "# Converting the hexadecimal value to octal:\n",
    "print(\"Hexadecimal to octal conversion: {:o}\".format(hexadecimal))"
   ],
   "metadata": {
    "collapsed": false
   }
  },
  {
   "cell_type": "code",
   "execution_count": null,
   "outputs": [],
   "source": [
    "# Note: The format() method automatically converts binary, octal, and hexadecimal values to\n",
    "# integer values automatically when they are passed inside the format().\n",
    "\n",
    "print(\"Binary to integer conversion: {}\".format(binary))\n",
    "print(\"Octal to integer conversion: {}\".format(octal))\n",
    "print(\"Hexadecimal to integer conversion: {}\".format(hexadecimal))"
   ],
   "metadata": {
    "collapsed": false
   }
  },
  {
   "cell_type": "markdown",
   "source": [
    "\n",
    "\n",
    "\n",
    "\n",
    "\n",
    "\n",
    "\n",
    "\n",
    "\n",
    "\n",
    "\n",
    "\n"
   ],
   "metadata": {
    "collapsed": false
   }
  }
 ],
 "metadata": {
  "kernelspec": {
   "display_name": "Python 3",
   "language": "python",
   "name": "python3"
  },
  "language_info": {
   "codemirror_mode": {
    "name": "ipython",
    "version": 3
   },
   "file_extension": ".py",
   "mimetype": "text/x-python",
   "name": "python",
   "nbconvert_exporter": "python",
   "pygments_lexer": "ipython3",
   "version": "3.8.1"
  }
 },
 "nbformat": 4,
 "nbformat_minor": 2
}
