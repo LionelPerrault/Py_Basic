{
 "cells": [
  {
   "cell_type": "markdown",
   "source": [
    "# List Functions"
   ],
   "metadata": {
    "collapsed": false
   }
  },
  {
   "cell_type": "code",
   "execution_count": null,
   "outputs": [],
   "source": [
    "# 1. append()\n",
    "# append() function adds an element to the end of a list.\n",
    "\n",
    "a = [1, 2, 3]  # Declaring a list.\n",
    "\n",
    "a.append(4)\n",
    "\n",
    "print(\"After appending:\", a)  # After appending print the list."
   ],
   "metadata": {
    "collapsed": false
   }
  },
  {
   "cell_type": "code",
   "execution_count": null,
   "outputs": [],
   "source": [
    "# 2. clear()\n",
    "# clear() function clears all the elements in a list and makes it empty.\n",
    "\n",
    "a = [\"a\", 1, 2, 4.0]\n",
    "\n",
    "print(\"Before clearing:\", a)  # Printing the list before clearing.\n",
    "\n",
    "a.clear()\n",
    "\n",
    "print(\"After clearing:\", a)  # Returns an empty list since the list is cleared."
   ],
   "metadata": {
    "collapsed": false
   }
  },
  {
   "cell_type": "code",
   "execution_count": null,
   "outputs": [],
   "source": [
    "# 3. count() and index()\n",
    "# count() and index() functions work in the same way as their string counterparts.\n",
    "# For more information, refer to the file string_functions.py\n",
    "\n",
    "# 4. copy()\n",
    "# copy() makes a shallow copy of a list.\n",
    "# Shallow copy means that any changes made to the copied list will not affect the original list.\n",
    "\n",
    "a = [1, 2, 3]\n",
    "\n",
    "b = a.copy()  # Making a shallow copy of the list 'a'.\n",
    "\n",
    "# Printing a and b before changing values.\n",
    "\n",
    "print(\"Before changes:\", a)\n",
    "print(\"Before changes:\", b)\n",
    "\n",
    "b.remove(1)  # Changing a value in b.\n",
    "\n",
    "# Printing after making changes.\n",
    "\n",
    "print(\"After changes:\", a)\n",
    "print(\"After changes:\", b)"
   ],
   "metadata": {
    "collapsed": false
   }
  },
  {
   "cell_type": "markdown",
   "source": [
    "# 5. insert()\n",
    "# insert() is used to insert an element at the desired position or index in a list.\n",
    "# Syntax: list.insert(index, object)\n",
    "\n",
    "a = [1, 2, 3]\n",
    "\n",
    "a.insert(0, 5)  # Inserting 5 at the index position 0.\n",
    "\n",
    "print(\"After inserting:\", a)\n"
   ],
   "metadata": {
    "collapsed": false
   }
  },
  {
   "cell_type": "code",
   "execution_count": null,
   "outputs": [],
   "source": [
    "# 6. extend()\n",
    "# extend() adds a set of iterables to the end of a list.\n",
    "\n",
    "a = [1, 2, 3]\n",
    "\n",
    "a.extend([4, 5, 6, 100, 200])\n",
    "\n",
    "print(\"After extending:\", a)\n"
   ],
   "metadata": {
    "collapsed": false
   }
  },
  {
   "cell_type": "code",
   "execution_count": null,
   "outputs": [],
   "source": [
    "# 7. pop()\n",
    "# pop() removes an element from a list based on its index position.\n",
    "# If no arguments are passed, pop() removes the last element in a list and returns the removed value.\n",
    "\n",
    "a = [1, 2, 3]\n",
    "\n",
    "print(\"Removed element:\", a.pop())  # Since no argument is passed, pop removes the last element.\n",
    "\n",
    "print(\"After popping:\", a)\n",
    "\n",
    "a = [1, 2, 3, 4]\n",
    "\n",
    "print(\"Removed element:\", a.pop(1))  # Passing the index value as 1.\n",
    "\n",
    "print(\"After popping:\", a)\n"
   ],
   "metadata": {
    "collapsed": false
   }
  },
  {
   "cell_type": "code",
   "execution_count": null,
   "outputs": [],
   "source": [
    "# 8. remove()\n",
    "# remove() removes an element from a list without its index position.\n",
    "# The element to be removed from the list should be passed as an argument.\n",
    "\n",
    "a = [100, 200, 300]\n",
    "\n",
    "a.remove(200)\n",
    "\n",
    "print(\"After removing:\", a)\n"
   ],
   "metadata": {
    "collapsed": false
   }
  },
  {
   "cell_type": "code",
   "execution_count": null,
   "outputs": [],
   "source": [
    "# 9. reverse()\n",
    "# reverse() reverses a list.\n",
    "\n",
    "a = [50, 60, 70, 80, 90, 100]\n",
    "\n",
    "a.reverse()\n",
    "\n",
    "print(\"After reversing:\", a)"
   ],
   "metadata": {
    "collapsed": false
   }
  },
  {
   "cell_type": "code",
   "execution_count": null,
   "outputs": [],
   "source": [
    "# 10. sort()\n",
    "\n",
    "\"\"\"\n",
    "sort() is used to sort a list in ascending order by default.\n",
    "\"\"\"\n",
    "\n",
    "a = [7, 10, 2, 1, 0, 65, 78]\n",
    "\n",
    "a.sort()\n",
    "\n",
    "print(\"Sorted list in ascending order: \", a)\n",
    "\n",
    "# To sort a list in descending order, we can use the reverse parameter.\n",
    "a.sort(reverse=True)\n",
    "\n",
    "print(\"Sorted list in descending order: \", a)"
   ],
   "metadata": {
    "collapsed": false
   }
  }
 ],
 "metadata": {
  "kernelspec": {
   "display_name": "Python 3",
   "language": "python",
   "name": "python3"
  },
  "language_info": {
   "codemirror_mode": {
    "name": "ipython",
    "version": 3
   },
   "file_extension": ".py",
   "mimetype": "text/x-python",
   "name": "python",
   "nbconvert_exporter": "python",
   "pygments_lexer": "ipython3",
   "version": "3.8.1-final"
  }
 },
 "nbformat": 4,
 "nbformat_minor": 2
}
