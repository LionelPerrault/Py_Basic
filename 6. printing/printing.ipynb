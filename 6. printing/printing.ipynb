{
 "cells": [
  {
   "cell_type": "markdown",
   "metadata": {},
   "source": [
    "# Ways to use print() in python"
   ]
  },
  {
   "cell_type": "markdown",
   "metadata": {},
   "source": [
    "# A string can be specified with either single quotes '' or double quotes \"\"."
   ]
  },
  {
   "cell_type": "code",
   "execution_count": 13,
   "metadata": {},
   "outputs": [
    {
     "name": "stdout",
     "output_type": "stream",
     "text": [
      "Hello world! within single quotes.\n",
      "Hello world! within double quotes.\n"
     ]
    }
   ],
   "source": [
    "print(\"Hello world! within single quotes.\")\n",
    "print(\"Hello world! within double quotes.\")"
   ]
  },
  {
   "cell_type": "code",
   "execution_count": 14,
   "metadata": {},
   "outputs": [],
   "source": [
    "# Variables can be used inside the print() method to display to the console.\n",
    "age = 20\n",
    "year = 2000"
   ]
  },
  {
   "cell_type": "code",
   "execution_count": 15,
   "metadata": {},
   "outputs": [
    {
     "name": "stdout",
     "output_type": "stream",
     "text": [
      "My age is 20\n",
      "My age is 20 and I was born in 2000\n",
      "My age is 20 and I was born in 2000\n",
      "I was born in 2000 and my age is 20\n"
     ]
    }
   ],
   "source": [
    "# Printing a variable using commas:\n",
    "print(\"My age is\", age)\n",
    "\n",
    "# Printing a variable using typecasting and the + (concatenation) operator:\n",
    "print(\"My age is \" + str(age) + \" and I was born in \" + str(year))\n",
    "\n",
    "# Printing a variable using the .format() method:\n",
    "print(\"My age is {} and I was born in {}\".format(age, year))\n",
    "\n",
    "# The parameters that are passed inside the .format() method have index values:\n",
    "# .format(value_one, value_two) where value_one has index 0 and value_two has index 1.\n",
    "\n",
    "# Using the .format() method and indexing:\n",
    "print(\"I was born in {1} and my age is {0}\".format(age, year))"
   ]
  }
 ],
 "metadata": {
  "kernelspec": {
   "display_name": "Python 3",
   "language": "python",
   "name": "python3"
  },
  "language_info": {
   "codemirror_mode": {
    "name": "ipython",
    "version": 3
   },
   "file_extension": ".py",
   "mimetype": "text/x-python",
   "name": "python",
   "nbconvert_exporter": "python",
   "pygments_lexer": "ipython3",
   "version": "3.8.1"
  }
 },
 "nbformat": 4,
 "nbformat_minor": 2
}
