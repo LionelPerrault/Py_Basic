{
 "cells": [
  {
   "cell_type": "markdown",
   "metadata": {},
   "source": [
    "# Integer Functions"
   ]
  },
  {
   "cell_type": "code",
   "execution_count": null,
   "metadata": {},
   "outputs": [],
   "source": [
    "number = 20  # Declaring a number."
   ]
  },
  {
   "cell_type": "markdown",
   "metadata": {},
   "source": [
    "## Implementation of function as_integer_ratio():"
   ]
  },
  {
   "cell_type": "markdown",
   "metadata": {},
   "source": [
    "#### Returns a pair of integer values whose ratio is equal to the corresponding integer or float value with positive denominator."
   ]
  },
  {
   "cell_type": "code",
   "execution_count": null,
   "metadata": {},
   "outputs": [],
   "source": [
    "print(number.as_integer_ratio())"
   ]
  },
  {
   "cell_type": "markdown",
   "metadata": {},
   "source": [
    "## Implementation of function bit_length():"
   ]
  },
  {
   "cell_type": "markdown",
   "metadata": {},
   "source": [
    "\n",
    "#### This function returns a pair of integers whose ratio is equivalent to the input value, expressed as either an integer or a float with a positive denominator."
   ]
  },
  {
   "cell_type": "code",
   "execution_count": null,
   "metadata": {},
   "outputs": [],
   "source": [
    "print(number.bit_length())"
   ]
  },
  {
   "cell_type": "markdown",
   "metadata": {},
   "source": [
    "## Implementation of function to_bytes():"
   ]
  },
  {
   "cell_type": "markdown",
   "metadata": {},
   "source": [
    "### The to_bytes method in Python allows for the conversion of an integer into an array of bytes. The method takes in three arguments:\n",
    "\n",
    "- length: the number of bytes the integer will be represented as.\n",
    "- byteorder: the byte ordering to be used. This can be either 'big' or 'little', where 'big' represents\n",
    "        the most significant byte at the start of the byte array and 'little' represents the most significant byte at the end of the byte array.\n",
    "- signed: a boolean value indicating whether the integer should be treated as a signed or unsigned value.\n",
    "\n",
    "### The resulting array of bytes can be used for a variety of purposes, such as in serialization, file I/O, or data transmission over a network."
   ]
  },
  {
   "cell_type": "code",
   "execution_count": null,
   "metadata": {},
   "outputs": [],
   "source": [
    "print(number.to_bytes(2, byteorder=\"big\", signed=False))\n",
    "print(number.to_bytes(2, byteorder=\"little\", signed=False))"
   ]
  },
  {
   "cell_type": "markdown",
   "metadata": {},
   "source": [
    "#### When working with negative numbers, the signed attribute in the to_bytes() method should be set to True. This will ensure that the resulting byte representation accurately reflects the sign of the integer."
   ]
  },
  {
   "cell_type": "code",
   "execution_count": null,
   "metadata": {},
   "outputs": [],
   "source": [
    "negative_number = -20  # Declaring a negative number.\n",
    "print(negative_number.to_bytes(2, byteorder=\"big\", signed=True))\n",
    "print(negative_number.to_bytes(2, byteorder=\"little\", signed=True))"
   ]
  },
  {
   "cell_type": "markdown",
   "metadata": {},
   "source": [
    "## Implementation of function from_bytes():\n",
    "\n",
    "The from_bytes method in Python allows for the conversion of an array of bytes into an integer. The method takes in three arguments:\n",
    "\n",
    "- bytes: the array of bytes to be converted into an integer.\n",
    "- byteorder: the byte ordering to be used. This can be either 'big' or 'little', where 'big' represents the most significant byte at the start of the byte array and 'little' represents the most significant byte at the end of the byte array.\n",
    "- signed: a boolean value indicating whether the integer should be treated as a signed or unsigned value.\n",
    "\n",
    "The resulting integer can be used for a variety of purposes, such as in data processing, arithmetic operations, or indexing."
   ]
  },
  {
   "cell_type": "markdown",
   "metadata": {},
   "source": [
    "```py\n",
    "Syntax: variable.from_bytes(bytes, byteorder='big' or 'little', signed=True or False)\n",
    "```"
   ]
  },
  {
   "cell_type": "code",
   "execution_count": null,
   "metadata": {},
   "outputs": [],
   "source": [
    "print(int.from_bytes(b\"\\x00\\x14\", byteorder=\"big\", signed=False))\n",
    "print(int.from_bytes(b\"\\x14\\x00\", byteorder=\"little\", signed=False))"
   ]
  },
  {
   "cell_type": "markdown",
   "source": [
    "#### When working with negative numbers, the signed attribute in the from_bytes() method should be set to True. This will ensure that the resulting byte representation accurately reflects the sign of the integer."
   ],
   "metadata": {
    "collapsed": false
   }
  },
  {
   "cell_type": "code",
   "execution_count": null,
   "metadata": {},
   "outputs": [],
   "source": [
    "print(int.from_bytes(b\"\\xff\\xec\", byteorder=\"big\", signed=True))\n",
    "print(int.from_bytes(b\"\\xec\\xff\", byteorder=\"little\", signed=True))"
   ]
  }
 ],
 "metadata": {
  "kernelspec": {
   "display_name": "Python 3",
   "language": "python",
   "name": "python3"
  },
  "language_info": {
   "codemirror_mode": {
    "name": "ipython",
    "version": 3
   },
   "file_extension": ".py",
   "mimetype": "text/x-python",
   "name": "python",
   "nbconvert_exporter": "python",
   "pygments_lexer": "ipython3",
   "version": "3.8.1"
  }
 },
 "nbformat": 4,
 "nbformat_minor": 2
}
