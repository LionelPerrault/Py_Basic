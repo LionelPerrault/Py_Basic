{
 "cells": [
  {
   "cell_type": "code",
   "execution_count": null,
   "outputs": [],
   "source": [
    "\"\"\" In python, number conversions can be made using format specifiers.\"\"\"\n",
    "\n",
    "\"\"\"Available format specifiers:\n",
    "%d => Decimal (base 10)\n",
    "%x => Hexadecimal (base 16)\n",
    "%o => Octal (base 8)\n",
    "%s => String\n",
    "%c => Character\n",
    "%f => Float\n",
    "\"\"\""
   ],
   "metadata": {
    "collapsed": false,
    "pycharm": {
     "is_executing": true
    }
   }
  },
  {
   "cell_type": "code",
   "execution_count": null,
   "outputs": [],
   "source": [
    "number = 20  # A decimal number.\n",
    "\n",
    "# Conversion of decimal to octal and hexadecimal using format specifiers:\n",
    "print(\"Octal representation: %o\" % number)\n",
    "print(\"Hexadecimal representation: %x\" % number)"
   ],
   "metadata": {
    "collapsed": false
   }
  },
  {
   "cell_type": "code",
   "execution_count": null,
   "outputs": [],
   "source": [
    "binary = 0b1001  # A binary number.\n",
    "\n",
    "# Conversion of binary to decimal, octal, and hexadecimal using format specifiers:\n",
    "print(\"Decimal representation: %d\" % binary)\n",
    "print(\"Octal representation: %o\" % binary)\n",
    "print(\"Hexadecimal representation: %x\" % binary)"
   ],
   "metadata": {
    "collapsed": false
   }
  },
  {
   "cell_type": "code",
   "execution_count": null,
   "outputs": [],
   "source": [
    "octal = 0o1001  # An octal number.\n",
    "\n",
    "# Conversion of octal to decimal and hexadecimal using format specifiers:\n",
    "print(\"Decimal representation: %d\" % octal)\n",
    "print(\"Hexadecimal representation: %x\" % octal)"
   ],
   "metadata": {
    "collapsed": false
   }
  },
  {
   "cell_type": "code",
   "execution_count": null,
   "outputs": [],
   "source": [
    "hexadecimal = 0x100  # A hexadecimal number.\n",
    "\n",
    "# Conversion of hexadecimal to decimal and octal using format specifiers:\n",
    "print(\"Decimal representation: %d\" % hexadecimal)\n",
    "print(\"Octal representation: %o\" % hexadecimal)"
   ],
   "metadata": {
    "collapsed": false
   }
  },
  {
   "cell_type": "markdown",
   "source": [],
   "metadata": {
    "collapsed": false
   }
  }
 ],
 "metadata": {
  "kernelspec": {
   "display_name": "Python 3",
   "language": "python",
   "name": "python3"
  },
  "language_info": {
   "codemirror_mode": {
    "name": "ipython",
    "version": 3
   },
   "file_extension": ".py",
   "mimetype": "text/x-python",
   "name": "python",
   "nbconvert_exporter": "python",
   "pygments_lexer": "ipython3",
   "version": "3.8.1"
  }
 },
 "nbformat": 4,
 "nbformat_minor": 2
}
